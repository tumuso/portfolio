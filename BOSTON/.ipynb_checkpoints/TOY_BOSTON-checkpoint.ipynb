{
 "cells": [
  {
   "cell_type": "markdown",
   "id": "ba4ec2e5-5e39-4557-9a2e-c2f43cfbfe12",
   "metadata": {},
   "source": [
    "<img src='logo2.png'><br>\n",
    "* ref : https://www.kaggle.com/vikrishnan/boston-house-prices?select=housing.csv"
   ]
  },
  {
   "cell_type": "markdown",
   "id": "0858c91d-1333-42ac-9b25-73aace6fd48e",
   "metadata": {},
   "source": [
    "<img src=\"logo.png\">"
   ]
  },
  {
   "cell_type": "markdown",
   "id": "73f598d6-e6f7-4a0f-af2b-fd4921c31a85",
   "metadata": {},
   "source": [
    "### regression(회귀)"
   ]
  },
  {
   "cell_type": "code",
   "execution_count": 1,
   "id": "a643d3dc-d583-48fa-b51e-e6ecdd8594cc",
   "metadata": {},
   "outputs": [],
   "source": [
    "### 506rows * 14cols DataFrame 생성"
   ]
  },
  {
   "cell_type": "code",
   "execution_count": 2,
   "id": "eb4617e4-c417-4121-8217-9ff1bd5cfdb7",
   "metadata": {},
   "outputs": [],
   "source": [
    "from sklearn.datasets import load_boston\n",
    "import pandas as pd\n",
    "import numpy as np\n",
    "import matplotlib.pyplot as plt\n",
    "import seaborn as sns\n",
    "import warnings\n",
    "warnings.filterwarnings(action='ignore')\n",
    "\n",
    "\n",
    "# from sklearn.linear_model import LogisticRegression ###---(분류 주의주의)\n",
    "# -------------------------------------------------\n",
    "from sklearn.linear_model import LinearRegression, Ridge, Lasso, ElasticNet\n",
    "# from sklearn.tree import DecisionTreeClassifier\n",
    "from sklearn.tree import DecisionTreeRegressor\n",
    "# from xgboost import XGBClassifier\n",
    "from xgboost import XGBRegressor\n",
    "# from lightgbm import LGBMClassifier\n",
    "from lightgbm import LGBMRegressor\n",
    "from sklearn.linear_model import LinearRegression\n",
    "from sklearn.ensemble import RandomForestRegressor\n",
    "\n",
    "from sklearn.ensemble import VotingRegressor\n",
    "from sklearn.ensemble import BaggingRegressor\n",
    "from sklearn.ensemble import GradientBoostingRegressor\n",
    "\n",
    "\n",
    "from sklearn.model_selection import train_test_split\n",
    "from sklearn.metrics import mean_squared_error  #잔차(실값-예측값) 제곱 합의 평균\n",
    "from sklearn.metrics import mean_squared_log_error\n",
    "from sklearn.metrics import r2_score\n",
    "from scipy.stats import skew, kurtosis  #왜도(skew):좌우치우침    첨도(kurt):중앙값의뾰족함정도\n",
    "\n",
    "from sklearn.preprocessing import StandardScaler, MinMaxScaler,RobustScaler\n",
    "from sklearn.model_selection import KFold, cross_val_score, GridSearchCV    # =StratifiedKFold 회귀에선 사용불가\n",
    "\n",
    "sns.set()"
   ]
  },
  {
   "cell_type": "markdown",
   "id": "9079deca-2c5f-432b-808b-6c794349ce9e",
   "metadata": {},
   "source": [
    "# Data load"
   ]
  },
  {
   "cell_type": "code",
   "execution_count": 3,
   "id": "271bc771-a12d-4b2a-91b8-76f220e95bce",
   "metadata": {},
   "outputs": [],
   "source": [
    "dataset = load_boston()"
   ]
  },
  {
   "cell_type": "code",
   "execution_count": 4,
   "id": "af5416b3-f359-405e-810f-f0836e9409f3",
   "metadata": {},
   "outputs": [
    {
     "data": {
      "text/plain": [
       "dict_keys(['data', 'target', 'feature_names', 'DESCR', 'filename'])"
      ]
     },
     "execution_count": 4,
     "metadata": {},
     "output_type": "execute_result"
    }
   ],
   "source": [
    "dataset.keys()"
   ]
  },
  {
   "cell_type": "code",
   "execution_count": 5,
   "id": "25b599d5-f431-429a-aacf-a19cf5429935",
   "metadata": {},
   "outputs": [],
   "source": [
    "df = pd.DataFrame(data=dataset['data'], columns=dataset['feature_names'])\n",
    "df['target'] = dataset['target']"
   ]
  },
  {
   "cell_type": "code",
   "execution_count": 6,
   "id": "97a13f48-bf15-4d5c-a9bb-c6fb42310a0a",
   "metadata": {},
   "outputs": [
    {
     "data": {
      "text/html": [
       "<div>\n",
       "<style scoped>\n",
       "    .dataframe tbody tr th:only-of-type {\n",
       "        vertical-align: middle;\n",
       "    }\n",
       "\n",
       "    .dataframe tbody tr th {\n",
       "        vertical-align: top;\n",
       "    }\n",
       "\n",
       "    .dataframe thead th {\n",
       "        text-align: right;\n",
       "    }\n",
       "</style>\n",
       "<table border=\"1\" class=\"dataframe\">\n",
       "  <thead>\n",
       "    <tr style=\"text-align: right;\">\n",
       "      <th></th>\n",
       "      <th>CRIM</th>\n",
       "      <th>ZN</th>\n",
       "      <th>INDUS</th>\n",
       "      <th>CHAS</th>\n",
       "      <th>NOX</th>\n",
       "      <th>RM</th>\n",
       "      <th>AGE</th>\n",
       "      <th>DIS</th>\n",
       "      <th>RAD</th>\n",
       "      <th>TAX</th>\n",
       "      <th>PTRATIO</th>\n",
       "      <th>B</th>\n",
       "      <th>LSTAT</th>\n",
       "      <th>target</th>\n",
       "    </tr>\n",
       "  </thead>\n",
       "  <tbody>\n",
       "    <tr>\n",
       "      <th>0</th>\n",
       "      <td>0.00632</td>\n",
       "      <td>18.0</td>\n",
       "      <td>2.31</td>\n",
       "      <td>0.0</td>\n",
       "      <td>0.538</td>\n",
       "      <td>6.575</td>\n",
       "      <td>65.2</td>\n",
       "      <td>4.0900</td>\n",
       "      <td>1.0</td>\n",
       "      <td>296.0</td>\n",
       "      <td>15.3</td>\n",
       "      <td>396.90</td>\n",
       "      <td>4.98</td>\n",
       "      <td>24.0</td>\n",
       "    </tr>\n",
       "    <tr>\n",
       "      <th>1</th>\n",
       "      <td>0.02731</td>\n",
       "      <td>0.0</td>\n",
       "      <td>7.07</td>\n",
       "      <td>0.0</td>\n",
       "      <td>0.469</td>\n",
       "      <td>6.421</td>\n",
       "      <td>78.9</td>\n",
       "      <td>4.9671</td>\n",
       "      <td>2.0</td>\n",
       "      <td>242.0</td>\n",
       "      <td>17.8</td>\n",
       "      <td>396.90</td>\n",
       "      <td>9.14</td>\n",
       "      <td>21.6</td>\n",
       "    </tr>\n",
       "    <tr>\n",
       "      <th>2</th>\n",
       "      <td>0.02729</td>\n",
       "      <td>0.0</td>\n",
       "      <td>7.07</td>\n",
       "      <td>0.0</td>\n",
       "      <td>0.469</td>\n",
       "      <td>7.185</td>\n",
       "      <td>61.1</td>\n",
       "      <td>4.9671</td>\n",
       "      <td>2.0</td>\n",
       "      <td>242.0</td>\n",
       "      <td>17.8</td>\n",
       "      <td>392.83</td>\n",
       "      <td>4.03</td>\n",
       "      <td>34.7</td>\n",
       "    </tr>\n",
       "    <tr>\n",
       "      <th>3</th>\n",
       "      <td>0.03237</td>\n",
       "      <td>0.0</td>\n",
       "      <td>2.18</td>\n",
       "      <td>0.0</td>\n",
       "      <td>0.458</td>\n",
       "      <td>6.998</td>\n",
       "      <td>45.8</td>\n",
       "      <td>6.0622</td>\n",
       "      <td>3.0</td>\n",
       "      <td>222.0</td>\n",
       "      <td>18.7</td>\n",
       "      <td>394.63</td>\n",
       "      <td>2.94</td>\n",
       "      <td>33.4</td>\n",
       "    </tr>\n",
       "    <tr>\n",
       "      <th>4</th>\n",
       "      <td>0.06905</td>\n",
       "      <td>0.0</td>\n",
       "      <td>2.18</td>\n",
       "      <td>0.0</td>\n",
       "      <td>0.458</td>\n",
       "      <td>7.147</td>\n",
       "      <td>54.2</td>\n",
       "      <td>6.0622</td>\n",
       "      <td>3.0</td>\n",
       "      <td>222.0</td>\n",
       "      <td>18.7</td>\n",
       "      <td>396.90</td>\n",
       "      <td>5.33</td>\n",
       "      <td>36.2</td>\n",
       "    </tr>\n",
       "  </tbody>\n",
       "</table>\n",
       "</div>"
      ],
      "text/plain": [
       "      CRIM    ZN  INDUS  CHAS    NOX     RM   AGE     DIS  RAD    TAX  \\\n",
       "0  0.00632  18.0   2.31   0.0  0.538  6.575  65.2  4.0900  1.0  296.0   \n",
       "1  0.02731   0.0   7.07   0.0  0.469  6.421  78.9  4.9671  2.0  242.0   \n",
       "2  0.02729   0.0   7.07   0.0  0.469  7.185  61.1  4.9671  2.0  242.0   \n",
       "3  0.03237   0.0   2.18   0.0  0.458  6.998  45.8  6.0622  3.0  222.0   \n",
       "4  0.06905   0.0   2.18   0.0  0.458  7.147  54.2  6.0622  3.0  222.0   \n",
       "\n",
       "   PTRATIO       B  LSTAT  target  \n",
       "0     15.3  396.90   4.98    24.0  \n",
       "1     17.8  396.90   9.14    21.6  \n",
       "2     17.8  392.83   4.03    34.7  \n",
       "3     18.7  394.63   2.94    33.4  \n",
       "4     18.7  396.90   5.33    36.2  "
      ]
     },
     "execution_count": 6,
     "metadata": {},
     "output_type": "execute_result"
    }
   ],
   "source": [
    "df.head()"
   ]
  },
  {
   "cell_type": "code",
   "execution_count": 7,
   "id": "f34a9ac4-f9ce-4e2a-a917-2c0f446a6a23",
   "metadata": {},
   "outputs": [],
   "source": [
    "df.to_csv(\"toy_boston_houseprice.csv\", index=False)"
   ]
  },
  {
   "cell_type": "markdown",
   "id": "3c27cd88-d279-4de6-bae3-7c5a70d5c317",
   "metadata": {},
   "source": [
    "#  EDA"
   ]
  },
  {
   "cell_type": "code",
   "execution_count": 8,
   "id": "12247e08-1d87-48d6-99e0-94b1d7c91086",
   "metadata": {},
   "outputs": [
    {
     "name": "stdout",
     "output_type": "stream",
     "text": [
      "<class 'pandas.core.frame.DataFrame'>\n",
      "RangeIndex: 506 entries, 0 to 505\n",
      "Data columns (total 14 columns):\n",
      " #   Column   Non-Null Count  Dtype  \n",
      "---  ------   --------------  -----  \n",
      " 0   CRIM     506 non-null    float64\n",
      " 1   ZN       506 non-null    float64\n",
      " 2   INDUS    506 non-null    float64\n",
      " 3   CHAS     506 non-null    float64\n",
      " 4   NOX      506 non-null    float64\n",
      " 5   RM       506 non-null    float64\n",
      " 6   AGE      506 non-null    float64\n",
      " 7   DIS      506 non-null    float64\n",
      " 8   RAD      506 non-null    float64\n",
      " 9   TAX      506 non-null    float64\n",
      " 10  PTRATIO  506 non-null    float64\n",
      " 11  B        506 non-null    float64\n",
      " 12  LSTAT    506 non-null    float64\n",
      " 13  target   506 non-null    float64\n",
      "dtypes: float64(14)\n",
      "memory usage: 55.5 KB\n"
     ]
    }
   ],
   "source": [
    "df.info()"
   ]
  },
  {
   "cell_type": "markdown",
   "id": "144e8cc4-9581-4618-83b5-77c941a85f3b",
   "metadata": {},
   "source": [
    "<img src=\"logo4.png\">"
   ]
  },
  {
   "cell_type": "code",
   "execution_count": 9,
   "id": "8a8a22c4-7eb3-4638-b1bb-40489639c663",
   "metadata": {},
   "outputs": [
    {
     "data": {
      "image/png": "[encoded data removed]",
      "text/plain": [
       "<Figure size 1152x720 with 16 Axes>"
      ]
     },
     "metadata": {},
     "output_type": "display_data"
    }
   ],
   "source": [
    "df.hist(figsize=(16,10))\n",
    "plt.show()"
   ]
  },
  {
   "cell_type": "markdown",
   "id": "23a6c1cd-e37d-423a-ae0a-8901f712e3c1",
   "metadata": {},
   "source": [
    "## 상관분석"
   ]
  },
  {
   "cell_type": "code",
   "execution_count": 10,
   "id": "0394b85c-acba-456b-a78b-36ebc13823c5",
   "metadata": {},
   "outputs": [
    {
     "data": {
      "image/png": "[encoded data removed]",
      "text/plain": [
       "<Figure size 720x720 with 2 Axes>"
      ]
     },
     "metadata": {},
     "output_type": "display_data"
    }
   ],
   "source": [
    "fig, ax = plt.subplots(figsize=(10,10))\n",
    "sns.heatmap(df.corr(), fmt='.2f', annot=True, cmap='Blues')\n",
    "plt.show()"
   ]
  },
  {
   "cell_type": "code",
   "execution_count": 11,
   "id": "11d29b06-adce-4f34-b47a-f99570866db8",
   "metadata": {},
   "outputs": [
    {
     "data": {
      "text/plain": [
       "count    506.000000\n",
       "mean       6.284634\n",
       "std        0.702617\n",
       "min        3.561000\n",
       "25%        5.885500\n",
       "50%        6.208500\n",
       "75%        6.623500\n",
       "max        8.780000\n",
       "Name: RM, dtype: float64"
      ]
     },
     "execution_count": 11,
     "metadata": {},
     "output_type": "execute_result"
    }
   ],
   "source": [
    "df['RM'].describe()"
   ]
  },
  {
   "cell_type": "markdown",
   "id": "b772ee78-2824-4638-adaf-5db5a051191e",
   "metadata": {},
   "source": [
    "# 학습"
   ]
  },
  {
   "cell_type": "markdown",
   "id": "b7fec436-c0bb-4f74-ad37-553c1e0a4d4e",
   "metadata": {},
   "source": [
    "## 데이터 분리"
   ]
  },
  {
   "cell_type": "code",
   "execution_count": 12,
   "id": "4d50fa2a-d3d3-4908-b8a8-a85a00a78ac4",
   "metadata": {},
   "outputs": [],
   "source": [
    "y = df['target']\n",
    "X = df.drop(['target'], axis=1)"
   ]
  },
  {
   "cell_type": "code",
   "execution_count": 13,
   "id": "0a18a761-b8b5-49e9-88ea-6f14c92eedb1",
   "metadata": {},
   "outputs": [],
   "source": [
    "X_train, X_test, y_train, y_test =train_test_split(X, y, test_size=0.2, random_state=1414)"
   ]
  },
  {
   "cell_type": "markdown",
   "id": "743cd98d-12e0-48ec-b911-8ea14f44f599",
   "metadata": {},
   "source": [
    "# OLS(Ordinary Least Squares) : 최소제곱법"
   ]
  },
  {
   "cell_type": "code",
   "execution_count": 14,
   "id": "a32c6f5f-7643-4977-875c-d2a582bf409d",
   "metadata": {},
   "outputs": [],
   "source": [
    "import statsmodels.api as sm\n",
    "import scipy.stats as stats"
   ]
  },
  {
   "cell_type": "code",
   "execution_count": 15,
   "id": "cffe02b3-1be8-4bf4-8ee1-96a3a0817d02",
   "metadata": {},
   "outputs": [
    {
     "name": "stdout",
     "output_type": "stream",
     "text": [
      "                                 OLS Regression Results                                \n",
      "=======================================================================================\n",
      "Dep. Variable:                 target   R-squared (uncentered):                   0.965\n",
      "Model:                            OLS   Adj. R-squared (uncentered):              0.963\n",
      "Method:                 Least Squares   F-statistic:                              817.3\n",
      "Date:                Sat, 01 Jan 2022   Prob (F-statistic):                   4.44e-274\n",
      "Time:                        14:07:41   Log-Likelihood:                         -1188.6\n",
      "No. Observations:                 404   AIC:                                      2403.\n",
      "Df Residuals:                     391   BIC:                                      2455.\n",
      "Df Model:                          13                                                  \n",
      "Covariance Type:            nonrobust                                                  \n",
      "==============================================================================\n",
      "                 coef    std err          t      P>|t|      [0.025      0.975]\n",
      "------------------------------------------------------------------------------\n",
      "CRIM          -0.0775      0.034     -2.311      0.021      -0.143      -0.012\n",
      "ZN             0.0460      0.015      3.067      0.002       0.017       0.075\n",
      "INDUS          0.0195      0.070      0.278      0.781      -0.118       0.157\n",
      "CHAS           1.7650      0.936      1.885      0.060      -0.076       3.606\n",
      "NOX           -3.3173      3.577     -0.927      0.354     -10.351       3.716\n",
      "RM             6.1697      0.330     18.701      0.000       5.521       6.818\n",
      "AGE           -0.0095      0.014     -0.658      0.511      -0.038       0.019\n",
      "DIS           -0.9239      0.205     -4.508      0.000      -1.327      -0.521\n",
      "RAD            0.1330      0.072      1.843      0.066      -0.009       0.275\n",
      "TAX           -0.0100      0.004     -2.281      0.023      -0.019      -0.001\n",
      "PTRATIO       -0.4687      0.118     -3.968      0.000      -0.701      -0.237\n",
      "B              0.0150      0.003      5.304      0.000       0.009       0.021\n",
      "LSTAT         -0.3924      0.055     -7.143      0.000      -0.500      -0.284\n",
      "==============================================================================\n",
      "Omnibus:                      130.563   Durbin-Watson:                   1.909\n",
      "Prob(Omnibus):                  0.000   Jarque-Bera (JB):              688.301\n",
      "Skew:                           1.281   Prob(JB):                    3.45e-150\n",
      "Kurtosis:                       8.859   Cond. No.                     8.59e+03\n",
      "==============================================================================\n",
      "\n",
      "Notes:\n",
      "[1] R² is computed without centering (uncentered) since the model does not contain a constant.\n",
      "[2] Standard Errors assume that the covariance matrix of the errors is correctly specified.\n",
      "[3] The condition number is large, 8.59e+03. This might indicate that there are\n",
      "strong multicollinearity or other numerical problems.\n"
     ]
    }
   ],
   "source": [
    "m_reg = sm.OLS(y_train, X_train).fit()\n",
    "# Print out the statistics\n",
    "res = m_reg.summary()\n",
    "print(res)"
   ]
  },
  {
   "cell_type": "markdown",
   "id": "dec91607-e01a-44b3-b3d2-5bdf5b520104",
   "metadata": {},
   "source": [
    "# 모델\n",
    "* 랏쏘 : L1규제 -->  x|w|  중요하지 않은 피쳐의 회귀계수를 0으로 만들수 있다.\n",
    "* 릿지 : L2규제 -->  xw^2  중요하지 않은 피쳐의 회귀계수를 0에 가깝게 만든다.(피쳐가 없어지진 않는다)\n",
    "* ElasicNet , XGBoostRegressor , LightGBMRegressor, *TreeRegressor\n",
    "* LogisticRegressor는 분류모델이다 ******"
   ]
  },
  {
   "cell_type": "markdown",
   "id": "9257dd8a-42f9-4acc-98cc-2a972ee9c9b6",
   "metadata": {},
   "source": [
    "* ref : https://xgboost.readthedocs.io/en/latest/python/python_api.html#xgboost.XGBRegressor"
   ]
  },
  {
   "cell_type": "markdown",
   "id": "e27ada8b-c01d-4e8a-85ee-4fcc13187c40",
   "metadata": {},
   "source": [
    "## 평가 매트릭스 \n",
    "* 잔차제곱합의평균 ( MSE )  -- SSR -- RMSL RMSLE  MAE LogLoss\n",
    "*    E    S   M"
   ]
  },
  {
   "cell_type": "markdown",
   "id": "57b1b117-7c2c-45e8-82e0-0885e83756ee",
   "metadata": {},
   "source": [
    "<pre>\n",
    "‘neg_mean_absolute_error’      metrics.mean_absolute_error\n",
    "‘neg_     mean_squared_error’  metrics.mean_squared_error()\n",
    "‘neg_root_mean_squared_error’  metrics.mean_squared_error(squared=False)\n",
    "‘neg_mean_squared_log_error’   metrics.mean_squared_log_error\n",
    "---\n",
    "‘neg_log_loss’                 metrics.log_loss (분류)\n",
    "</pre>"
   ]
  },
  {
   "cell_type": "markdown",
   "id": "c6bc7e34-397d-45ba-8672-9db23282b982",
   "metadata": {},
   "source": [
    "# 1차 점수확인 \n",
    ": 무조건 점수부터 보자(결측x, object X)"
   ]
  },
  {
   "cell_type": "code",
   "execution_count": 16,
   "id": "863fd667-ea4f-4fb9-8d55-b51954011157",
   "metadata": {},
   "outputs": [
    {
     "name": "stdout",
     "output_type": "stream",
     "text": [
      "LinearRegression\t MSE:34.2563 RMSE:5.8529\n",
      "Ridge\t MSE:34.6178 RMSE:5.8837\n",
      "Lasso\t MSE:39.0914 RMSE:6.2523\n",
      "ElasticNet\t MSE:38.4532 RMSE:6.2011\n",
      "DecisionTreeRegressor\t MSE:31.0588 RMSE:5.5730\n",
      "XGBRegressor\t MSE:15.6989 RMSE:3.9622\n",
      "LGBMRegressor\t MSE:17.3407 RMSE:4.1642\n"
     ]
    }
   ],
   "source": [
    "models = [LinearRegression(), Ridge(), Lasso(), ElasticNet(), DecisionTreeRegressor(),XGBRegressor(), LGBMRegressor()]\n",
    "for model in models:\n",
    "    model.fit(X_train,  y_train,)\n",
    "    pred = model.predict(X_test)\n",
    "    mse  = mean_squared_error(y_test, pred)\n",
    "    rmse = mean_squared_error(y_test, pred, squared=False)\n",
    "    print(f\"{model.__class__.__name__}\\t MSE:{mse:.4f} RMSE:{rmse:.4f}\")\n",
    "    "
   ]
  },
  {
   "cell_type": "markdown",
   "id": "4fe45b09-b0b9-4ff9-b98f-5f22bd3877aa",
   "metadata": {},
   "source": [
    "## Outlier 삭제\n",
    "* CRIM\t5.207652\t36.752786\n",
    "* CHAS\t3.395799\t9.531453"
   ]
  },
  {
   "cell_type": "code",
   "execution_count": 17,
   "id": "279a9d8f-96e2-46af-b818-4a9eabafe788",
   "metadata": {},
   "outputs": [
    {
     "data": {
      "text/plain": [
       "(404, 13)"
      ]
     },
     "execution_count": 17,
     "metadata": {},
     "output_type": "execute_result"
    }
   ],
   "source": [
    "X_train.shape"
   ]
  },
  {
   "cell_type": "code",
   "execution_count": 18,
   "id": "6192f75e-03ee-49c1-b4f7-c75e3c3e7fbf",
   "metadata": {},
   "outputs": [
    {
     "data": {
      "text/html": [
       "<div>\n",
       "<style scoped>\n",
       "    .dataframe tbody tr th:only-of-type {\n",
       "        vertical-align: middle;\n",
       "    }\n",
       "\n",
       "    .dataframe tbody tr th {\n",
       "        vertical-align: top;\n",
       "    }\n",
       "\n",
       "    .dataframe thead th {\n",
       "        text-align: right;\n",
       "    }\n",
       "</style>\n",
       "<table border=\"1\" class=\"dataframe\">\n",
       "  <thead>\n",
       "    <tr style=\"text-align: right;\">\n",
       "      <th></th>\n",
       "      <th>CRIM</th>\n",
       "      <th>B</th>\n",
       "    </tr>\n",
       "  </thead>\n",
       "  <tbody>\n",
       "    <tr>\n",
       "      <th>count</th>\n",
       "      <td>404.000000</td>\n",
       "      <td>404.000000</td>\n",
       "    </tr>\n",
       "    <tr>\n",
       "      <th>mean</th>\n",
       "      <td>3.623255</td>\n",
       "      <td>356.627970</td>\n",
       "    </tr>\n",
       "    <tr>\n",
       "      <th>std</th>\n",
       "      <td>9.057974</td>\n",
       "      <td>90.774356</td>\n",
       "    </tr>\n",
       "    <tr>\n",
       "      <th>min</th>\n",
       "      <td>0.006320</td>\n",
       "      <td>0.320000</td>\n",
       "    </tr>\n",
       "    <tr>\n",
       "      <th>25%</th>\n",
       "      <td>0.071188</td>\n",
       "      <td>375.085000</td>\n",
       "    </tr>\n",
       "    <tr>\n",
       "      <th>50%</th>\n",
       "      <td>0.262660</td>\n",
       "      <td>391.475000</td>\n",
       "    </tr>\n",
       "    <tr>\n",
       "      <th>75%</th>\n",
       "      <td>3.489463</td>\n",
       "      <td>396.285000</td>\n",
       "    </tr>\n",
       "    <tr>\n",
       "      <th>max</th>\n",
       "      <td>88.976200</td>\n",
       "      <td>396.900000</td>\n",
       "    </tr>\n",
       "  </tbody>\n",
       "</table>\n",
       "</div>"
      ],
      "text/plain": [
       "             CRIM           B\n",
       "count  404.000000  404.000000\n",
       "mean     3.623255  356.627970\n",
       "std      9.057974   90.774356\n",
       "min      0.006320    0.320000\n",
       "25%      0.071188  375.085000\n",
       "50%      0.262660  391.475000\n",
       "75%      3.489463  396.285000\n",
       "max     88.976200  396.900000"
      ]
     },
     "execution_count": 18,
     "metadata": {},
     "output_type": "execute_result"
    }
   ],
   "source": [
    "X_train[['CRIM','B']].describe()"
   ]
  },
  {
   "cell_type": "code",
   "execution_count": 19,
   "id": "c1f8b8ea-ec95-4704-8296-53f3b8a73e21",
   "metadata": {},
   "outputs": [
    {
     "name": "stdout",
     "output_type": "stream",
     "text": [
      "count    404.000000\n",
      "mean       3.623255\n",
      "std        9.057974\n",
      "min        0.006320\n",
      "25%        0.071188\n",
      "50%        0.262660\n",
      "75%        3.489463\n",
      "max       88.976200\n",
      "Name: CRIM, dtype: float64\n"
     ]
    },
    {
     "data": {
      "image/png": "[encoded data removed]",
      "text/plain": [
       "<Figure size 720x288 with 1 Axes>"
      ]
     },
     "metadata": {},
     "output_type": "display_data"
    }
   ],
   "source": [
    "print(X_train['CRIM'].describe())\n",
    "f,ax=plt.subplots(figsize=(10,4))\n",
    "sns.boxplot(x=X_train['CRIM'])\n",
    "sns.swarmplot(x=X_train['CRIM'])\n",
    "plt.show()"
   ]
  },
  {
   "cell_type": "code",
   "execution_count": 20,
   "id": "09c2cf46-ecd4-48ca-9ef7-376080e24d7d",
   "metadata": {},
   "outputs": [
    {
     "name": "stdout",
     "output_type": "stream",
     "text": [
      "count    404.000000\n",
      "mean     356.627970\n",
      "std       90.774356\n",
      "min        0.320000\n",
      "25%      375.085000\n",
      "50%      391.475000\n",
      "75%      396.285000\n",
      "max      396.900000\n",
      "Name: B, dtype: float64\n"
     ]
    },
    {
     "data": {
      "image/png": "[encoded data removed]",
      "text/plain": [
       "<Figure size 720x288 with 1 Axes>"
      ]
     },
     "metadata": {},
     "output_type": "display_data"
    }
   ],
   "source": [
    "print(X_train['B'].describe())\n",
    "f,ax=plt.subplots(figsize=(10,4))\n",
    "sns.boxplot(x=X_train['B'])\n",
    "sns.swarmplot(x=X_train['B'])\n",
    "plt.show()"
   ]
  },
  {
   "cell_type": "code",
   "execution_count": 21,
   "id": "fdab9b19-ab15-4cf8-a3f8-6552c13fcb9f",
   "metadata": {},
   "outputs": [],
   "source": [
    "crim_idx = X_train[X_train['CRIM']>60].index"
   ]
  },
  {
   "cell_type": "code",
   "execution_count": 22,
   "id": "759d32b1-edc1-4400-b9e3-3d48c5dc00a8",
   "metadata": {},
   "outputs": [],
   "source": [
    "X_train.drop(index=crim_idx, axis=0, inplace=True)\n",
    "y_train.drop(index=crim_idx, axis=0, inplace=True)"
   ]
  },
  {
   "cell_type": "code",
   "execution_count": 23,
   "id": "50a5c414-0aed-4310-a9e8-46604e3e227e",
   "metadata": {},
   "outputs": [],
   "source": [
    "# df.loc[380]"
   ]
  },
  {
   "cell_type": "code",
   "execution_count": 24,
   "id": "e10ad577-d18b-4727-99ad-d931453d349c",
   "metadata": {},
   "outputs": [],
   "source": [
    "b_idx = X_train[X_train['B']<150].index"
   ]
  },
  {
   "cell_type": "code",
   "execution_count": 25,
   "id": "d43ba00a-f229-4d6d-a8db-cae2e2f1ad1a",
   "metadata": {},
   "outputs": [],
   "source": [
    "X_train.drop(index=b_idx, axis=0, inplace=True)\n",
    "y_train.drop(index=b_idx, axis=0, inplace=True)"
   ]
  },
  {
   "cell_type": "code",
   "execution_count": 26,
   "id": "94ec5f5f-98e2-4153-acb1-f52a05dd5b96",
   "metadata": {},
   "outputs": [],
   "source": [
    "X_train = X_train.reset_index(drop=True)\n",
    "y_train = y_train.reset_index(drop=True)"
   ]
  },
  {
   "cell_type": "code",
   "execution_count": 27,
   "id": "44a988b9-7b79-4f54-9ee1-9b6733e9faf7",
   "metadata": {},
   "outputs": [],
   "source": [
    "X_train = X_train.reset_index(drop=True)\n",
    "y_train = y_train.reset_index(drop=True)"
   ]
  },
  {
   "cell_type": "code",
   "execution_count": 28,
   "id": "1d454cd4-3621-467f-83ba-4b582d72c4f8",
   "metadata": {},
   "outputs": [
    {
     "data": {
      "text/plain": [
       "((374, 13), (374,))"
      ]
     },
     "execution_count": 28,
     "metadata": {},
     "output_type": "execute_result"
    }
   ],
   "source": [
    "X_train.shape, y_train.shape"
   ]
  },
  {
   "cell_type": "code",
   "execution_count": 29,
   "id": "16c46ec9-0936-4e21-84f7-ab189a408119",
   "metadata": {},
   "outputs": [
    {
     "name": "stdout",
     "output_type": "stream",
     "text": [
      "Int64Index([434, 427, 438, 454, 423, 417, 445, 412], dtype='int64') Int64Index([], dtype='int64')\n"
     ]
    }
   ],
   "source": [
    "##-------test에 있는것도 지워보자 --------- 정규분포화되서 학습이 더 잘되는지 확인해보려고\n",
    "##-------만약 공모전이라면 절대 테스트는 레코드수(500)를 줄여선 안된다. 피쳐는 지워도 된다.\n",
    "b_idx = X_test[X_test['B']<150].index\n",
    "crim_idx = X_test[X_test['CRIM']>60].index\n",
    "\n",
    "print(b_idx, crim_idx)\n",
    "\n",
    "X_test.drop(index=b_idx, axis=0, inplace=True)\n",
    "y_test.drop(index=b_idx, axis=0, inplace=True)\n",
    "\n",
    "X_test.drop(index=crim_idx, axis=0, inplace=True)\n",
    "y_test.drop(index=crim_idx, axis=0, inplace=True)\n",
    "\n",
    "X_test = X_test.reset_index(drop=True)\n",
    "y_test = y_test.reset_index(drop=True)"
   ]
  },
  {
   "cell_type": "markdown",
   "id": "73297d74-59d6-4fe6-877a-1df4e93b9898",
   "metadata": {},
   "source": [
    "# <font color='red'>Feature Engineering\n",
    "* 인싸이트 발견     "
   ]
  },
  {
   "cell_type": "code",
   "execution_count": 30,
   "id": "d2d9db51-acd9-41d4-906c-142d90a6a6e5",
   "metadata": {},
   "outputs": [],
   "source": [
    "model = XGBRegressor(n_estimators=300, random_state=1414, learning_rate=0.1)"
   ]
  },
  {
   "cell_type": "markdown",
   "id": "f605f2ac-1eea-424f-b0bd-1e586bd52f75",
   "metadata": {},
   "source": [
    "### 왜도 첨도 확인"
   ]
  },
  {
   "cell_type": "code",
   "execution_count": 31,
   "id": "70d2d76c-363e-46d4-9cfb-77e8cf1e0fd6",
   "metadata": {},
   "outputs": [
    {
     "name": "stdout",
     "output_type": "stream",
     "text": [
      "[ 5.20765239  2.21906306  0.29414628  3.39579929  0.72714416  0.40241467\n",
      " -0.59718559  1.00877876  1.00183349  0.66796827 -0.79994453 -2.88179835\n",
      "  0.90377074  1.10481082]\n",
      "[36.75278626  3.97994877 -1.23321847  9.53145284 -0.07586422  1.86102697\n",
      " -0.97001393  0.47129857 -0.8705205  -1.14298488 -0.29411638  7.14376929\n",
      "  0.47654476  1.46862877]\n",
      "Index(['CRIM', 'ZN', 'INDUS', 'CHAS', 'NOX', 'RM', 'AGE', 'DIS', 'RAD', 'TAX',\n",
      "       'PTRATIO', 'B', 'LSTAT', 'target'],\n",
      "      dtype='object')\n"
     ]
    }
   ],
   "source": [
    "skew_arr  = skew(df)\n",
    "kurt_arr  = kurtosis(df)\n",
    "print(skew_arr)\n",
    "print(kurt_arr)\n",
    "print(df.columns)"
   ]
  },
  {
   "cell_type": "code",
   "execution_count": 32,
   "id": "7364211f-48ca-4d9c-98ef-f754735fbff4",
   "metadata": {},
   "outputs": [
    {
     "data": {
      "text/html": [
       "<div>\n",
       "<style scoped>\n",
       "    .dataframe tbody tr th:only-of-type {\n",
       "        vertical-align: middle;\n",
       "    }\n",
       "\n",
       "    .dataframe tbody tr th {\n",
       "        vertical-align: top;\n",
       "    }\n",
       "\n",
       "    .dataframe thead th {\n",
       "        text-align: right;\n",
       "    }\n",
       "</style>\n",
       "<table border=\"1\" class=\"dataframe\">\n",
       "  <thead>\n",
       "    <tr style=\"text-align: right;\">\n",
       "      <th></th>\n",
       "      <th>skew</th>\n",
       "      <th>kurt</th>\n",
       "    </tr>\n",
       "  </thead>\n",
       "  <tbody>\n",
       "    <tr>\n",
       "      <th>CRIM</th>\n",
       "      <td>5.207652</td>\n",
       "      <td>36.752786</td>\n",
       "    </tr>\n",
       "    <tr>\n",
       "      <th>ZN</th>\n",
       "      <td>2.219063</td>\n",
       "      <td>3.979949</td>\n",
       "    </tr>\n",
       "    <tr>\n",
       "      <th>INDUS</th>\n",
       "      <td>0.294146</td>\n",
       "      <td>-1.233218</td>\n",
       "    </tr>\n",
       "    <tr>\n",
       "      <th>CHAS</th>\n",
       "      <td>3.395799</td>\n",
       "      <td>9.531453</td>\n",
       "    </tr>\n",
       "    <tr>\n",
       "      <th>NOX</th>\n",
       "      <td>0.727144</td>\n",
       "      <td>-0.075864</td>\n",
       "    </tr>\n",
       "  </tbody>\n",
       "</table>\n",
       "</div>"
      ],
      "text/plain": [
       "           skew       kurt\n",
       "CRIM   5.207652  36.752786\n",
       "ZN     2.219063   3.979949\n",
       "INDUS  0.294146  -1.233218\n",
       "CHAS   3.395799   9.531453\n",
       "NOX    0.727144  -0.075864"
      ]
     },
     "execution_count": 32,
     "metadata": {},
     "output_type": "execute_result"
    }
   ],
   "source": [
    "dict = {\"skew\":skew_arr, \"kurt\":kurt_arr}\n",
    "dict_df = pd.DataFrame(dict, index=df.columns)\n",
    "# dict_df = dict_df.set_index(df.columns)\n",
    "dict_df.head()"
   ]
  },
  {
   "cell_type": "code",
   "execution_count": 33,
   "id": "98275950-237c-43e1-bed4-bd76847c103d",
   "metadata": {},
   "outputs": [
    {
     "data": {
      "text/html": [
       "<div>\n",
       "<style scoped>\n",
       "    .dataframe tbody tr th:only-of-type {\n",
       "        vertical-align: middle;\n",
       "    }\n",
       "\n",
       "    .dataframe tbody tr th {\n",
       "        vertical-align: top;\n",
       "    }\n",
       "\n",
       "    .dataframe thead th {\n",
       "        text-align: right;\n",
       "    }\n",
       "</style>\n",
       "<table border=\"1\" class=\"dataframe\">\n",
       "  <thead>\n",
       "    <tr style=\"text-align: right;\">\n",
       "      <th></th>\n",
       "      <th>skew</th>\n",
       "      <th>kurt</th>\n",
       "    </tr>\n",
       "  </thead>\n",
       "  <tbody>\n",
       "    <tr>\n",
       "      <th>CRIM</th>\n",
       "      <td>5.207652</td>\n",
       "      <td>36.752786</td>\n",
       "    </tr>\n",
       "    <tr>\n",
       "      <th>ZN</th>\n",
       "      <td>2.219063</td>\n",
       "      <td>3.979949</td>\n",
       "    </tr>\n",
       "    <tr>\n",
       "      <th>INDUS</th>\n",
       "      <td>0.294146</td>\n",
       "      <td>-1.233218</td>\n",
       "    </tr>\n",
       "    <tr>\n",
       "      <th>CHAS</th>\n",
       "      <td>3.395799</td>\n",
       "      <td>9.531453</td>\n",
       "    </tr>\n",
       "    <tr>\n",
       "      <th>NOX</th>\n",
       "      <td>0.727144</td>\n",
       "      <td>-0.075864</td>\n",
       "    </tr>\n",
       "    <tr>\n",
       "      <th>RM</th>\n",
       "      <td>0.402415</td>\n",
       "      <td>1.861027</td>\n",
       "    </tr>\n",
       "    <tr>\n",
       "      <th>AGE</th>\n",
       "      <td>-0.597186</td>\n",
       "      <td>-0.970014</td>\n",
       "    </tr>\n",
       "    <tr>\n",
       "      <th>DIS</th>\n",
       "      <td>1.008779</td>\n",
       "      <td>0.471299</td>\n",
       "    </tr>\n",
       "    <tr>\n",
       "      <th>RAD</th>\n",
       "      <td>1.001833</td>\n",
       "      <td>-0.870521</td>\n",
       "    </tr>\n",
       "    <tr>\n",
       "      <th>TAX</th>\n",
       "      <td>0.667968</td>\n",
       "      <td>-1.142985</td>\n",
       "    </tr>\n",
       "    <tr>\n",
       "      <th>PTRATIO</th>\n",
       "      <td>-0.799945</td>\n",
       "      <td>-0.294116</td>\n",
       "    </tr>\n",
       "    <tr>\n",
       "      <th>B</th>\n",
       "      <td>-2.881798</td>\n",
       "      <td>7.143769</td>\n",
       "    </tr>\n",
       "    <tr>\n",
       "      <th>LSTAT</th>\n",
       "      <td>0.903771</td>\n",
       "      <td>0.476545</td>\n",
       "    </tr>\n",
       "    <tr>\n",
       "      <th>target</th>\n",
       "      <td>1.104811</td>\n",
       "      <td>1.468629</td>\n",
       "    </tr>\n",
       "  </tbody>\n",
       "</table>\n",
       "</div>"
      ],
      "text/plain": [
       "             skew       kurt\n",
       "CRIM     5.207652  36.752786\n",
       "ZN       2.219063   3.979949\n",
       "INDUS    0.294146  -1.233218\n",
       "CHAS     3.395799   9.531453\n",
       "NOX      0.727144  -0.075864\n",
       "RM       0.402415   1.861027\n",
       "AGE     -0.597186  -0.970014\n",
       "DIS      1.008779   0.471299\n",
       "RAD      1.001833  -0.870521\n",
       "TAX      0.667968  -1.142985\n",
       "PTRATIO -0.799945  -0.294116\n",
       "B       -2.881798   7.143769\n",
       "LSTAT    0.903771   0.476545\n",
       "target   1.104811   1.468629"
      ]
     },
     "execution_count": 33,
     "metadata": {},
     "output_type": "execute_result"
    }
   ],
   "source": [
    "df_skew = pd.DataFrame([skew_arr, kurt_arr], columns=df.columns, index=['skew','kurt']).T\n",
    "df_skew.head(20)"
   ]
  },
  {
   "cell_type": "code",
   "execution_count": 34,
   "id": "ae92b79a-21df-43d7-b690-8f1d8a0b222b",
   "metadata": {},
   "outputs": [
    {
     "data": {
      "text/plain": [
       "<AxesSubplot:>"
      ]
     },
     "execution_count": 34,
     "metadata": {},
     "output_type": "execute_result"
    },
    {
     "data": {
      "image/png": "[encoded data removed]",
      "text/plain": [
       "<Figure size 432x288 with 1 Axes>"
      ]
     },
     "metadata": {},
     "output_type": "display_data"
    }
   ],
   "source": [
    "df_skew.sort_values('skew', ascending=False).plot(kind='bar')"
   ]
  },
  {
   "cell_type": "markdown",
   "id": "1b3cf65a-b104-4bae-81c7-8a5145282f00",
   "metadata": {},
   "source": [
    "<img src='logo3.png' width='900'>"
   ]
  },
  {
   "cell_type": "markdown",
   "id": "29a7793f-ec2c-4d74-ab23-39dfcd7b5c16",
   "metadata": {},
   "source": [
    "## 스케일링 : 정규화"
   ]
  },
  {
   "cell_type": "code",
   "execution_count": 35,
   "id": "107a502f-0b59-4526-81c8-f572d7d12e1b",
   "metadata": {},
   "outputs": [],
   "source": [
    "# MinMax Standard Rosubstic \n",
    "# skew() : 왜도 확인\n",
    "# Log변환 : x(-1)없을 경우에만 사용"
   ]
  },
  {
   "cell_type": "markdown",
   "id": "e602ce46-918b-405e-8bb7-33a2723f827d",
   "metadata": {},
   "source": [
    "* y 스케일링\n",
    "* y_train --> y_train_scaler\n",
    "* y_test --> y_test_scaler"
   ]
  },
  {
   "cell_type": "code",
   "execution_count": 36,
   "id": "71e074e1-9692-490a-94e0-6f41b140dbc4",
   "metadata": {},
   "outputs": [
    {
     "data": {
      "image/png": "[encoded data removed]",
      "text/plain": [
       "<Figure size 432x288 with 1 Axes>"
      ]
     },
     "metadata": {},
     "output_type": "display_data"
    }
   ],
   "source": [
    "y_train.hist()\n",
    "plt.show()"
   ]
  },
  {
   "cell_type": "code",
   "execution_count": 37,
   "id": "e7723bd9-9883-4d07-9bdc-410c7ae6374b",
   "metadata": {},
   "outputs": [
    {
     "data": {
      "text/plain": [
       "0    24.5\n",
       "1    50.0\n",
       "2    19.3\n",
       "3    19.3\n",
       "4    12.7\n",
       "Name: target, dtype: float64"
      ]
     },
     "execution_count": 37,
     "metadata": {},
     "output_type": "execute_result"
    }
   ],
   "source": [
    "y_train[:5]"
   ]
  },
  {
   "cell_type": "markdown",
   "id": "2300a17b-0b2e-4873-95ee-aa0d79d6e19e",
   "metadata": {},
   "source": [
    "## StandardScaler()"
   ]
  },
  {
   "cell_type": "markdown",
   "id": "ba31a09c-0376-4e98-a7e2-40bb8d056ac8",
   "metadata": {},
   "source": [
    "* y (Series 8:2 ) 만 스케일링 한 경우\n",
    "* y_train --> y_train_scaler\n",
    "* y_test --> y_test_sacler"
   ]
  },
  {
   "cell_type": "code",
   "execution_count": 38,
   "id": "d61a924a-60fe-4e96-87ea-2c10cc871ea6",
   "metadata": {},
   "outputs": [
    {
     "name": "stdout",
     "output_type": "stream",
     "text": [
      "(374,)\n",
      "(94,)\n"
     ]
    }
   ],
   "source": [
    "scalers = [StandardScaler()] # , RobustScaler(), MinMaxScaler()]\n",
    "for mm in scalers:\n",
    "    #----- Series를 array 세로줄로 바꾸는 방법 ------------------\n",
    "    mm.fit(np.array(y_train).reshape(-1,1))                          # fit       : array, matrix만 가능\n",
    "    #----------------------------------------------------------\n",
    "    y_train_matrix = mm.transform(np.array(y_train).reshape(-1,1))   # transform : array, matrix만 가능\n",
    "    y_test_matrix  = mm.transform(np.array(y_test).reshape(-1,1))    \n",
    "    \n",
    "    #----- matrix 2차를 array 1차로 바꾸는 방법 ------------------\n",
    "    y_train_scaler = pd.Series(y_train_matrix.reshape(-1))\n",
    "    #----------------------------------------------------------\n",
    "    y_test_scaler  = pd.Series(y_test_matrix.reshape(-1))\n",
    "\n",
    "print(y_train_scaler.shape)\n",
    "print(y_test_scaler.shape)"
   ]
  },
  {
   "cell_type": "markdown",
   "id": "6622800f-332c-49e3-b081-17855c3d0fa9",
   "metadata": {},
   "source": [
    "* X (DataFrame 8:2 ) 만 스케일링 한 경우\n",
    "* X_train  --> X_train_scaler\n",
    "* X_test  --> X_test_sacler "
   ]
  },
  {
   "cell_type": "code",
   "execution_count": 39,
   "id": "38e6e937-7315-4ac0-a6ac-fdbf0ed74a76",
   "metadata": {},
   "outputs": [],
   "source": [
    "# X_train_scaler.hist()\n",
    "# plt.show()"
   ]
  },
  {
   "cell_type": "code",
   "execution_count": 40,
   "id": "9c44af7e-000d-41ad-89c0-37c3819f2124",
   "metadata": {},
   "outputs": [
    {
     "name": "stdout",
     "output_type": "stream",
     "text": [
      "(374, 13)\n",
      "(94, 13)\n"
     ]
    }
   ],
   "source": [
    "scalers = [StandardScaler()] # , RobustScaler(), MinMaxScaler()]\n",
    "for mm in scalers:\n",
    "    mm.fit(X_train)                            # fit       : array, matrix만 가능\n",
    "    X_train_matrix = mm.transform(X_train)     # transform : array, matrix만 가능\n",
    "    X_test_matrix  = mm.transform(X_test)    \n",
    "    \n",
    "    #print( X_train.index.values)              # index객체 --> array\n",
    "                                                                           # Index객체  or array\n",
    "    X_train_scaler = pd.DataFrame(X_train_matrix, columns=X_train.columns, index=X_train.index)\n",
    "    X_test_scaler  = pd.DataFrame(X_test_matrix , columns=X_test.columns,  index=X_test.index)    \n",
    "    \n",
    "print(X_train_scaler.shape)\n",
    "print(X_test_scaler.shape)"
   ]
  },
  {
   "cell_type": "markdown",
   "id": "f7fea7b8-738d-4841-aaba-dc953da6fcd9",
   "metadata": {},
   "source": [
    "### 2차 점수확인 : 스케일링 후 점수"
   ]
  },
  {
   "cell_type": "markdown",
   "id": "808316e5-68fc-4ff8-8f4c-090d79c9fee4",
   "metadata": {},
   "source": [
    "* X만 스케일한 경우 "
   ]
  },
  {
   "cell_type": "code",
   "execution_count": 41,
   "id": "0f2b9db2-caaf-43b1-a87f-ce6f48efdf82",
   "metadata": {},
   "outputs": [
    {
     "name": "stdout",
     "output_type": "stream",
     "text": [
      "LinearRegression\t MSE:33.6297 RMSE:5.7991\n",
      "Ridge\t MSE:33.6707 RMSE:5.8026\n",
      "Lasso\t MSE:39.9571 RMSE:6.3212\n",
      "ElasticNet\t MSE:43.1569 RMSE:6.5694\n",
      "DecisionTreeRegressor\t MSE:32.3269 RMSE:5.6857\n",
      "XGBRegressor\t MSE:19.3639 RMSE:4.4004\n",
      "LGBMRegressor\t MSE:18.6598 RMSE:4.3197\n"
     ]
    }
   ],
   "source": [
    "models = [LinearRegression(), Ridge(), Lasso(), ElasticNet(), DecisionTreeRegressor(),XGBRegressor(), LGBMRegressor()]\n",
    "for model in models:\n",
    "    model.fit(X_train_scaler,  y_train)      # ---------train scale\n",
    "    pred = model.predict(X_test_scaler)      # ---------test  scale\n",
    "    mse  = mean_squared_error(y_test, pred)\n",
    "    rmse = mean_squared_error(y_test, pred, squared=False)\n",
    "    print(f\"{model.__class__.__name__}\\t MSE:{mse:.4f} RMSE:{rmse:.4f}\")"
   ]
  },
  {
   "cell_type": "markdown",
   "id": "88777f8c-cc72-4c05-b8ab-d0540ea5a770",
   "metadata": {},
   "source": [
    "* y만 스케일한 경우"
   ]
  },
  {
   "cell_type": "code",
   "execution_count": 42,
   "id": "895aff7b-2296-4713-a8ed-e4cb8ffd50d0",
   "metadata": {},
   "outputs": [
    {
     "name": "stdout",
     "output_type": "stream",
     "text": [
      "LinearRegression\t MSE:0.4243 RMSE:0.6513\n",
      "Ridge\t MSE:0.4261 RMSE:0.6528\n",
      "Lasso\t MSE:0.6686 RMSE:0.8177\n",
      "ElasticNet\t MSE:0.6125 RMSE:0.7826\n",
      "DecisionTreeRegressor\t MSE:0.3483 RMSE:0.5901\n",
      "XGBRegressor\t MSE:0.1615 RMSE:0.4018\n",
      "LGBMRegressor\t MSE:0.2429 RMSE:0.4928\n"
     ]
    }
   ],
   "source": [
    "models = [LinearRegression(), Ridge(), Lasso(), ElasticNet(), DecisionTreeRegressor(),XGBRegressor(), LGBMRegressor()]\n",
    "for model in models:\n",
    "    model.fit(X_train,  y_train_scaler)      \n",
    "    pred = model.predict(X_test)                                   # ---------test scale     \n",
    "    mse  = mean_squared_error(y_test_scaler, pred)                 # ---------test scale\n",
    "    rmse = mean_squared_error(y_test_scaler, pred, squared=False)  # ---------test  scale\n",
    "    print(f\"{model.__class__.__name__}\\t MSE:{mse:.4f} RMSE:{rmse:.4f}\")"
   ]
  },
  {
   "cell_type": "markdown",
   "id": "de26c32a-f074-448a-b9d8-b2856b66390b",
   "metadata": {},
   "source": [
    "* X, y 모두 스케일한 경우 "
   ]
  },
  {
   "cell_type": "code",
   "execution_count": 43,
   "id": "16d79ee1-2cf8-41a2-8bd4-b2e982470213",
   "metadata": {},
   "outputs": [
    {
     "name": "stdout",
     "output_type": "stream",
     "text": [
      "LinearRegression\t MSE:0.4243 RMSE:0.6513\n",
      "Ridge\t MSE:0.4248 RMSE:0.6517\n",
      "Lasso\t MSE:1.1119 RMSE:1.0544\n",
      "ElasticNet\t MSE:0.8174 RMSE:0.9041\n",
      "DecisionTreeRegressor\t MSE:0.3829 RMSE:0.6188\n",
      "XGBRegressor\t MSE:0.1616 RMSE:0.4020\n",
      "LGBMRegressor\t MSE:0.2354 RMSE:0.4852\n"
     ]
    }
   ],
   "source": [
    "models = [LinearRegression(), Ridge(), Lasso(), ElasticNet(), DecisionTreeRegressor(),XGBRegressor(), LGBMRegressor()]\n",
    "for model in models:\n",
    "    model.fit(X_train_scaler,  y_train_scaler)      \n",
    "    pred = model.predict(X_test_scaler)                                   # ---------test scale     \n",
    "    mse  = mean_squared_error(y_test_scaler, pred)                 # ---------test scale\n",
    "    rmse = mean_squared_error(y_test_scaler, pred, squared=False)  # ---------test  scale\n",
    "    print(f\"{model.__class__.__name__}\\t MSE:{mse:.4f} RMSE:{rmse:.4f}\")"
   ]
  },
  {
   "cell_type": "markdown",
   "id": "2a1da83d-e797-4c2a-a85b-93d78d6b1ae8",
   "metadata": {},
   "source": [
    "## log --> 스케일링  "
   ]
  },
  {
   "cell_type": "code",
   "execution_count": 44,
   "id": "8f6779f2-0c22-4d61-b709-d18da5a4cf07",
   "metadata": {},
   "outputs": [],
   "source": [
    "X_train_log = np.log1p(X_train)\n",
    "X_test_log  = np.log1p(X_test)\n",
    "y_train_log = np.log1p(y_train)\n",
    "y_test_log  = np.log1p(y_test)"
   ]
  },
  {
   "cell_type": "code",
   "execution_count": 45,
   "id": "722fd788-570f-4143-b350-c00f2225e177",
   "metadata": {},
   "outputs": [
    {
     "name": "stdout",
     "output_type": "stream",
     "text": [
      "(374,)\n",
      "(94,)\n"
     ]
    }
   ],
   "source": [
    "scalers = [StandardScaler()] # , RobustScaler(), MinMaxScaler()]\n",
    "for mm in scalers:\n",
    "    #----- Series를 array 세로줄로 바꾸는 방법 ------------------\n",
    "    mm.fit(np.array(y_train_log).reshape(-1,1))                          # fit       : array, matrix만 가능\n",
    "    #----------------------------------------------------------\n",
    "    y_train_matrix = mm.transform(np.array(y_train_log).reshape(-1,1))   # transform : array, matrix만 가능\n",
    "    y_test_matrix  = mm.transform(np.array(y_test_log).reshape(-1,1))    \n",
    "    \n",
    "    #----- matrix 2차를 array 1차로 바꾸는 방법 ------------------\n",
    "    y_train_scaler = pd.Series(y_train_matrix.reshape(-1))\n",
    "    #----------------------------------------------------------\n",
    "    y_test_scaler  = pd.Series(y_test_matrix.reshape(-1))\n",
    "\n",
    "print(y_train_scaler.shape)\n",
    "print(y_test_scaler.shape)"
   ]
  },
  {
   "cell_type": "code",
   "execution_count": 46,
   "id": "66d56022-25e8-4109-85b0-d6753d3074f8",
   "metadata": {},
   "outputs": [
    {
     "name": "stdout",
     "output_type": "stream",
     "text": [
      "(374, 13)\n",
      "(94, 13)\n"
     ]
    }
   ],
   "source": [
    "scalers = [StandardScaler()] # , RobustScaler(), MinMaxScaler()]\n",
    "for mm in scalers:\n",
    "    mm.fit(X_train_log)                            # fit       : array, matrix만 가능\n",
    "    X_train_matrix = mm.transform(X_train_log)     # transform : array, matrix만 가능\n",
    "    X_test_matrix  = mm.transform(X_test_log)    \n",
    "    \n",
    "    #print( X_train.index.values)              # index객체 --> array\n",
    "                                                                           # Index객체  or array\n",
    "    X_train_scaler = pd.DataFrame(X_train_matrix, columns=X_train.columns, index=X_train.index)\n",
    "    X_test_scaler  = pd.DataFrame(X_test_matrix , columns=X_test.columns,  index=X_test.index)    \n",
    "    \n",
    "print(X_train_scaler.shape)\n",
    "print(X_test_scaler.shape)"
   ]
  },
  {
   "cell_type": "code",
   "execution_count": 47,
   "id": "a966cd6a-3d30-4ac2-88b0-4c91c83cab11",
   "metadata": {},
   "outputs": [
    {
     "name": "stdout",
     "output_type": "stream",
     "text": [
      "LinearRegression\t MSE:0.2726 RMSE:0.5221\n",
      "Ridge\t MSE:0.2733 RMSE:0.5228\n",
      "Lasso\t MSE:1.0044 RMSE:1.0022\n",
      "ElasticNet\t MSE:0.6935 RMSE:0.8328\n",
      "DecisionTreeRegressor\t MSE:0.3464 RMSE:0.5886\n",
      "XGBRegressor\t MSE:0.2130 RMSE:0.4616\n",
      "LGBMRegressor\t MSE:0.1895 RMSE:0.4354\n"
     ]
    }
   ],
   "source": [
    "models = [LinearRegression(), Ridge(), Lasso(), ElasticNet(), DecisionTreeRegressor(),XGBRegressor(), LGBMRegressor()]\n",
    "for model in models:\n",
    "    model.fit(X_train_scaler,  y_train_scaler)      \n",
    "    pred = model.predict(X_test_scaler)                                   # ---------test scale     \n",
    "    mse  = mean_squared_error(y_test_scaler, pred)                 # ---------test scale\n",
    "    rmse = mean_squared_error(y_test_scaler, pred, squared=False)  # ---------test  scale\n",
    "    print(f\"{model.__class__.__name__}\\t MSE:{mse:.4f} RMSE:{rmse:.4f}\")"
   ]
  },
  {
   "cell_type": "code",
   "execution_count": 48,
   "id": "d141e15b-3b33-4b95-bfa0-1678c326316b",
   "metadata": {},
   "outputs": [],
   "source": [
    "# sns.histplot(data=penguins, x=\"flipper_length_mm\")"
   ]
  },
  {
   "cell_type": "markdown",
   "id": "b4f862df-9f85-47e7-96ae-9eb4a18549c8",
   "metadata": {},
   "source": [
    "### 스케일링을 먼저 하고 로그변환하면???\n",
    "*  log_3.4251456789  :  플로우 발생 (컴퓨터가 계산할수 없는 수치 발생 할 수 있다)\n",
    "*  Input contains NaN, infinity or a value too large for dtype('float64')."
   ]
  },
  {
   "cell_type": "markdown",
   "id": "b3fe86a3-ab3c-435e-9545-e8228dd2170b",
   "metadata": {},
   "source": [
    "---\n",
    "<pre><font color='red'>\n",
    "* 아웃라이어 선별 후 스케일링 해준다 ---> 정규화에 가까워진다\n",
    "* 로그변환 후 스케일링 해주면 좋다\n",
    "* 모델마다 스케일 성능이 다르다 오히려 점수가 낮아지는 모델도 있다"
   ]
  },
  {
   "cell_type": "code",
   "execution_count": 49,
   "id": "c1219ca3-2ab8-4bc4-b09f-98d3c44e4787",
   "metadata": {},
   "outputs": [],
   "source": [
    "# LinearRegression\t MSE:34.2563 RMSE:5.8529\n",
    "# Ridge\t\t\t\t MSE:34.6178 RMSE:5.8837\n",
    "# Lasso\t\t\t\t MSE:39.0914 RMSE:6.2523\n",
    "# ElasticNet\t\t MSE:38.4532 RMSE:6.2011\n",
    "# DecisionTreeRegressor\t MSE:30.2501 RMSE:5.5000\n",
    "# XGBRegressor\t MSE:15.6989 RMSE:3.9622\n",
    "# LGBMRegressor\t MSE:17.3407 RMSE:4.1642\n",
    "\n",
    "# --------------- 로그  + 스케일링\n",
    "# LinearRegression\t MSE:0.2588 RMSE:0.5087\n",
    "# Ridge\t MSE:0.2593 RMSE:0.5093\n",
    "# Lasso\t MSE:0.9582 RMSE:0.9789\n",
    "# ElasticNet\t MSE:0.6654 RMSE:0.8157\n",
    "# DecisionTreeRegressor\t MSE:0.2920 RMSE:0.5403\n",
    "# XGBRegressor\t MSE:0.1656 RMSE:0.4070\n",
    "# LGBMRegressor\t MSE:0.1671 RMSE:0.4087\n",
    "\n",
    "\n",
    "# --------------- 아웃라이어 + 로그  + 스케일링\n",
    "#---------------------train만 아웃라이어 삭제\n",
    "# LinearRegression\t MSE:0.4389 RMSE:0.6625\n",
    "# Ridge\t MSE:0.4353 RMSE:0.6598\n",
    "# Lasso\t MSE:1.1357 RMSE:1.0657\n",
    "# ElasticNet\t MSE:0.7853 RMSE:0.8862\n",
    "# DecisionTreeRegressor\t MSE:0.3511 RMSE:0.5925\n",
    "# XGBRegressor\t MSE:0.2260 RMSE:0.4754\n",
    "# LGBMRegressor\t MSE:0.2040 RMSE:0.4517\n",
    "\n",
    "\n",
    "#---------------------아웃라이어 없는 상태\n",
    "# LinearRegression\t MSE:0.2726 RMSE:0.5221\n",
    "# Ridge\t MSE:0.2733 RMSE:0.5228\n",
    "# Lasso\t MSE:1.0044 RMSE:1.0022\n",
    "# ElasticNet\t MSE:0.6935 RMSE:0.8328\n",
    "# DecisionTreeRegressor\t MSE:0.4573 RMSE:0.6762\n",
    "# XGBRegressor\t MSE:0.2130 RMSE:0.4616\n",
    "# LGBMRegressor\t MSE:0.1895 RMSE:0.4354"
   ]
  },
  {
   "cell_type": "markdown",
   "id": "d35561db-d092-421f-aa17-b8c51d15030b",
   "metadata": {},
   "source": [
    "# 점수 더 올려보자 \n",
    "* 학습량을 늘려라 - KFold, cross_var_score(cv),  GridSearchCV(cv) \n",
    "*                 ,,,,, StratifiedKFold(연속형데이터는 골로루? 분배가 안된다\n",
    "* 튜닝  : 단일 모델 \n",
    "* 앙상블 : 모델 조합\n",
    "* 스태킹 : 모델 조합이 예측한 데이터를  다시한번 학습에 사용"
   ]
  },
  {
   "cell_type": "code",
   "execution_count": 50,
   "id": "c0cb25a2-67cb-4cdf-b545-3ea4eecd918d",
   "metadata": {},
   "outputs": [
    {
     "data": {
      "text/html": [
       "<div>\n",
       "<style scoped>\n",
       "    .dataframe tbody tr th:only-of-type {\n",
       "        vertical-align: middle;\n",
       "    }\n",
       "\n",
       "    .dataframe tbody tr th {\n",
       "        vertical-align: top;\n",
       "    }\n",
       "\n",
       "    .dataframe thead th {\n",
       "        text-align: right;\n",
       "    }\n",
       "</style>\n",
       "<table border=\"1\" class=\"dataframe\">\n",
       "  <thead>\n",
       "    <tr style=\"text-align: right;\">\n",
       "      <th></th>\n",
       "      <th>seq</th>\n",
       "      <th>score</th>\n",
       "    </tr>\n",
       "  </thead>\n",
       "  <tbody>\n",
       "    <tr>\n",
       "      <th>kim</th>\n",
       "      <td>1</td>\n",
       "      <td>40</td>\n",
       "    </tr>\n",
       "    <tr>\n",
       "      <th>hong</th>\n",
       "      <td>2</td>\n",
       "      <td>50</td>\n",
       "    </tr>\n",
       "    <tr>\n",
       "      <th>park</th>\n",
       "      <td>3</td>\n",
       "      <td>60</td>\n",
       "    </tr>\n",
       "  </tbody>\n",
       "</table>\n",
       "</div>"
      ],
      "text/plain": [
       "      seq  score\n",
       "kim     1     40\n",
       "hong    2     50\n",
       "park    3     60"
      ]
     },
     "execution_count": 50,
     "metadata": {},
     "output_type": "execute_result"
    }
   ],
   "source": [
    "arr = np.array([1,2,3,4,5])\n",
    "arr\n",
    "arr_idx = [0,1]\n",
    "arr[arr_idx]\n",
    "\n",
    "df = pd.DataFrame( {\"seq\":[1,2,3], \"score\":[40,50,60]}, index=['kim', 'hong','park'])\n",
    "df.head()"
   ]
  },
  {
   "cell_type": "markdown",
   "id": "645dd80e-7819-46fd-8a49-ddb69721ce7b",
   "metadata": {},
   "source": [
    "### 학습량을 늘려라 - KFold"
   ]
  },
  {
   "cell_type": "code",
   "execution_count": 51,
   "id": "db9e490a-2dab-407d-9508-239a68048e79",
   "metadata": {},
   "outputs": [
    {
     "name": "stdout",
     "output_type": "stream",
     "text": [
      "[0 1 2 3 4]\n",
      "MSE:0.1915 RMSE:0.4376\n",
      "[1 3 4 6 7]\n",
      "MSE:0.1023 RMSE:0.3198\n",
      "[0 1 2 4 5]\n",
      "MSE:0.1224 RMSE:0.3498\n",
      "[0 1 2 3 5]\n",
      "MSE:0.1247 RMSE:0.3532\n",
      "[0 2 3 4 5]\n",
      "MSE:0.2030 RMSE:0.4506\n",
      "0.38218846705993154\n"
     ]
    }
   ],
   "source": [
    "# pd.concate\n",
    "XX_scaler = np.concatenate([X_train_scaler, X_test_scaler] , axis=0 )\n",
    "yy_scaler = np.concatenate([y_train_scaler, y_test_scaler] , axis=0 )\n",
    "                           \n",
    "kf = KFold(n_splits=5, shuffle=True, random_state=1414)\n",
    "# for train_idx, test_idx in kf.split(XX_df):      #Dataframe 통째로 다 넣어준다.\n",
    "#     X_train, X_test = XX_df.iloc[train_idx], XX_df.iloc[test_idx]\n",
    "\n",
    "tot_rmse_list = []\n",
    "for train_idx, test_idx in kf.split(XX_scaler):  #array [[],[]] 통째로 다 넣어준다.\n",
    "    print(train_idx[:5])\n",
    "    X_train, X_test = XX_scaler[train_idx], XX_scaler[test_idx]\n",
    "    y_train, y_test = yy_scaler[train_idx], yy_scaler[test_idx]\n",
    "    \n",
    "    model = XGBRegressor()\n",
    "    model.fit(X_train,  y_train,)\n",
    "    pred = model.predict(X_test)\n",
    "    mse  = mean_squared_error(y_test, pred)\n",
    "    rmse = mean_squared_error(y_test, pred, squared=False)\n",
    "    print(f\"MSE:{mse:.4f} RMSE:{rmse:.4f}\")\n",
    "    tot_rmse_list.append(rmse)\n",
    "\n",
    "print(np.mean(tot_rmse_list) )\n",
    "# print(np.array(tot_rmse_list).mean() )"
   ]
  },
  {
   "cell_type": "markdown",
   "id": "e6690aee-6a4b-4f79-b840-f9a6838e7bcc",
   "metadata": {},
   "source": [
    "### 학습량을 늘려라 - cross_var_score(cv)"
   ]
  },
  {
   "cell_type": "code",
   "execution_count": 52,
   "id": "04980fd8-c667-4f55-b797-586c0864e98b",
   "metadata": {},
   "outputs": [
    {
     "name": "stdout",
     "output_type": "stream",
     "text": [
      "[0.43758747 0.31978807 0.34981476 0.35319133 0.45056071]\n",
      "0.38218846705993154\n"
     ]
    }
   ],
   "source": [
    "model = XGBRegressor()\n",
    "# kf = KFold(n_splits=5, shuffle=True, random_state=1414)\n",
    "array_score5 = cross_val_score(model, X=XX_scaler, y=yy_scaler, \n",
    "                               scoring='neg_root_mean_squared_error',cv=kf)\n",
    "print(array_score5*-1)\n",
    "print((array_score5*-1).mean())"
   ]
  },
  {
   "cell_type": "markdown",
   "id": "a7673e1f-4cc1-428d-b083-fef7d6c9dfd7",
   "metadata": {},
   "source": [
    "### 학습량을 늘려라 - cross_val__(cv) - 여러점수"
   ]
  },
  {
   "cell_type": "code",
   "execution_count": 53,
   "id": "9202cb3d-5c2f-428f-a828-fcbb4bb027a4",
   "metadata": {},
   "outputs": [
    {
     "name": "stdout",
     "output_type": "stream",
     "text": [
      "dict_keys(['fit_time', 'score_time', 'test_AAA', 'test_RMSE'])\n",
      "[-0.1914828  -0.10226441 -0.12237036 -0.12474412 -0.20300495]\n",
      "[-0.43758747 -0.31978807 -0.34981476 -0.35319133 -0.45056071]\n",
      "0.38218846705993154\n"
     ]
    }
   ],
   "source": [
    "from sklearn.model_selection import cross_validate\n",
    "model = XGBRegressor()\n",
    "\n",
    "\n",
    "socre_dict = {\"AAA\":'neg_mean_squared_error' ,\"RMSE\":'neg_root_mean_squared_error'}  #, \"MY\":neg_AAAAA}\n",
    "dict_score5 = cross_validate(model, X=XX_scaler, y=yy_scaler\n",
    "                               , scoring=socre_dict\n",
    "                               ,cv=kf)\n",
    "print(dict_score5.keys())\n",
    "print(dict_score5['test_AAA'])  #[-0.1914828  -0.10226441 -0.12237036 -0.12474412 -0.20300495]\n",
    "print(dict_score5['test_RMSE'])  #[-0.1914828  -0.10226441 -0.12237036 -0.12474412 -0.20300495]\n",
    "print((dict_score5['test_RMSE']*-1).mean())"
   ]
  },
  {
   "cell_type": "markdown",
   "id": "be9adcba-d63e-492d-82ee-a29914eccfa4",
   "metadata": {},
   "source": [
    "# <font color=red>TODO</font>"
   ]
  },
  {
   "cell_type": "code",
   "execution_count": 54,
   "id": "925217c0-464d-4736-bab0-64b60757ab92",
   "metadata": {},
   "outputs": [
    {
     "name": "stdout",
     "output_type": "stream",
     "text": [
      "-------------------- [ 0.29915393  2.22439167 -0.33428302 -0.33428302 -1.42647778] [ 0.0845704   1.7177941  -0.7808911   0.06358413 -1.1583575 ]\n",
      "-------------------- [ 0.75055528  0.94711857  0.69444164  0.55892545 -1.30742251] [ 0.6199842  0.8404951  0.6409899  0.4143725 -1.1344063]\n",
      "[-0.39261363 -0.48712345]\n",
      "-0.4398685405476522\n"
     ]
    }
   ],
   "source": [
    "model = XGBRegressor()\n",
    "# kf = KFold(n_splits=5, shuffle=True, random_state=1414)\n",
    "\n",
    "# pd.concate\n",
    "# XX_scaler = np.concatenate([X_train_scaler, X_test_scaler] , axis=0 )\n",
    "# yy_scaler = np.concatenate([y_train_scaler, y_test_scaler] , axis=0 )\n",
    "\n",
    "from sklearn.metrics import make_scorer\n",
    "\n",
    "def my_score_DEF(y_test, y_pred):\n",
    "    print('--------------------',y_test[:5], y_pred[:5])\n",
    "    mse  = mean_squared_error(y_test, y_pred)\n",
    "    rmse = mean_squared_error(y_test, y_pred, squared=False)\n",
    "    return  rmse\n",
    "\n",
    "# scoreing == str or callable\n",
    "array_score5 = cross_val_score(model, X=XX_scaler, y=yy_scaler\n",
    "                               , scoring= make_scorer(my_score_DEF)  #'neg_mean_squared_error'  #\n",
    "                               ,cv=2)\n",
    "print(array_score5*-1)\n",
    "print((array_score5*-1).mean())"
   ]
  },
  {
   "cell_type": "markdown",
   "id": "3597d9c7-8a4a-4222-bc28-a74a086cded3",
   "metadata": {},
   "source": [
    "### 학습량을 늘려라 - GridSearchCV(튜닝 + cv)"
   ]
  },
  {
   "cell_type": "code",
   "execution_count": 55,
   "id": "a74949f0-bbdb-4b77-b916-7858f7cd5d97",
   "metadata": {},
   "outputs": [
    {
     "name": "stdout",
     "output_type": "stream",
     "text": [
      "dict_values([KFold(n_splits=5, random_state=1414, shuffle=True), nan, 'reg:squarederror', None, None, None, None, None, None, None, 'gain', None, None, None, None, None, nan, None, 100, None, None, None, None, None, None, None, None, None, None, XGBRegressor(base_score=None, booster=None, colsample_bylevel=None,\n",
      "             colsample_bynode=None, colsample_bytree=None, gamma=None,\n",
      "             gpu_id=None, importance_type='gain', interaction_constraints=None,\n",
      "             learning_rate=None, max_delta_step=None, max_depth=None,\n",
      "             min_child_weight=None, missing=nan, monotone_constraints=None,\n",
      "             n_estimators=100, n_jobs=None, num_parallel_tree=None,\n",
      "             random_state=None, reg_alpha=None, reg_lambda=None,\n",
      "             scale_pos_weight=None, subsample=None, tree_method=None,\n",
      "             validate_parameters=None, verbosity=None), 'deprecated', None, {'n_estimators': [5, 6, 7], 'learning_rate': [0.01, 0.1, 1, 2, 3, 4]}, '2*n_jobs', True, False, 'neg_root_mean_squared_error', 0])\n",
      "0.486985593247456\n",
      "{'learning_rate': 1, 'n_estimators': 6}\n"
     ]
    }
   ],
   "source": [
    "model = XGBRegressor()\n",
    "kf = KFold(n_splits=5, shuffle=True, random_state=1414)\n",
    "\n",
    "#============ 어설프게 했더니 안하니만 못하다 ~~!!!!  0.3821  --> 0.4869\n",
    "hyper_param = {'n_estimators':[5, 6, 7],\n",
    "              'learning_rate':[0.01, 0.1, 1,2,3,4,]\n",
    "               }\n",
    "# socre_dict = {\"MSE\":'neg_mean_squared_error' ,\"RMSE\":'neg_root_mean_squared_error'}  \n",
    "# gcv_model = GridSearchCV(model, param_grid=hyper_param, scoring=socre_dict, refit='RMSE', cv=kf)  #, return_train_score=True)\n",
    "\n",
    "gcv_model = GridSearchCV(model, param_grid=hyper_param, scoring='neg_root_mean_squared_error'\n",
    "                         , refit=True, cv=kf)  \n",
    "\n",
    "print(gcv_model.get_params().values())\n",
    "\n",
    "gcv_model.fit(XX_scaler,yy_scaler)\n",
    "print(-1*gcv_model.best_score_)\n",
    "print(gcv_model.best_params_)"
   ]
  },
  {
   "cell_type": "markdown",
   "id": "679e2a0e-707e-4e01-b7a8-d34cec569816",
   "metadata": {},
   "source": [
    "---"
   ]
  },
  {
   "cell_type": "markdown",
   "id": "b6900c52-cedc-4b54-88f1-f01a9011d383",
   "metadata": {},
   "source": [
    "# 규제 연습"
   ]
  },
  {
   "cell_type": "markdown",
   "id": "8fed04b8-14f9-47d5-a4cc-9034829b171d",
   "metadata": {},
   "source": [
    "# Data load"
   ]
  },
  {
   "cell_type": "code",
   "execution_count": 56,
   "id": "e608a853-15a6-4653-a9a4-471d24fa5d78",
   "metadata": {},
   "outputs": [],
   "source": [
    "dataset = load_boston()"
   ]
  },
  {
   "cell_type": "code",
   "execution_count": 57,
   "id": "c6daeb98-c160-4951-b350-7bb804b6c8c8",
   "metadata": {},
   "outputs": [],
   "source": [
    "df = pd.DataFrame(data=dataset['data'], columns=dataset['feature_names'])\n",
    "df['target'] = dataset['target']"
   ]
  },
  {
   "cell_type": "code",
   "execution_count": 58,
   "id": "2bcec185-a7f8-42eb-9ee5-842473c5f4cb",
   "metadata": {},
   "outputs": [
    {
     "data": {
      "text/html": [
       "<div>\n",
       "<style scoped>\n",
       "    .dataframe tbody tr th:only-of-type {\n",
       "        vertical-align: middle;\n",
       "    }\n",
       "\n",
       "    .dataframe tbody tr th {\n",
       "        vertical-align: top;\n",
       "    }\n",
       "\n",
       "    .dataframe thead th {\n",
       "        text-align: right;\n",
       "    }\n",
       "</style>\n",
       "<table border=\"1\" class=\"dataframe\">\n",
       "  <thead>\n",
       "    <tr style=\"text-align: right;\">\n",
       "      <th></th>\n",
       "      <th>CRIM</th>\n",
       "      <th>ZN</th>\n",
       "      <th>INDUS</th>\n",
       "      <th>CHAS</th>\n",
       "      <th>NOX</th>\n",
       "      <th>RM</th>\n",
       "      <th>AGE</th>\n",
       "      <th>DIS</th>\n",
       "      <th>RAD</th>\n",
       "      <th>TAX</th>\n",
       "      <th>PTRATIO</th>\n",
       "      <th>B</th>\n",
       "      <th>LSTAT</th>\n",
       "      <th>target</th>\n",
       "    </tr>\n",
       "  </thead>\n",
       "  <tbody>\n",
       "    <tr>\n",
       "      <th>0</th>\n",
       "      <td>0.00632</td>\n",
       "      <td>18.0</td>\n",
       "      <td>2.31</td>\n",
       "      <td>0.0</td>\n",
       "      <td>0.538</td>\n",
       "      <td>6.575</td>\n",
       "      <td>65.2</td>\n",
       "      <td>4.0900</td>\n",
       "      <td>1.0</td>\n",
       "      <td>296.0</td>\n",
       "      <td>15.3</td>\n",
       "      <td>396.90</td>\n",
       "      <td>4.98</td>\n",
       "      <td>24.0</td>\n",
       "    </tr>\n",
       "    <tr>\n",
       "      <th>1</th>\n",
       "      <td>0.02731</td>\n",
       "      <td>0.0</td>\n",
       "      <td>7.07</td>\n",
       "      <td>0.0</td>\n",
       "      <td>0.469</td>\n",
       "      <td>6.421</td>\n",
       "      <td>78.9</td>\n",
       "      <td>4.9671</td>\n",
       "      <td>2.0</td>\n",
       "      <td>242.0</td>\n",
       "      <td>17.8</td>\n",
       "      <td>396.90</td>\n",
       "      <td>9.14</td>\n",
       "      <td>21.6</td>\n",
       "    </tr>\n",
       "    <tr>\n",
       "      <th>2</th>\n",
       "      <td>0.02729</td>\n",
       "      <td>0.0</td>\n",
       "      <td>7.07</td>\n",
       "      <td>0.0</td>\n",
       "      <td>0.469</td>\n",
       "      <td>7.185</td>\n",
       "      <td>61.1</td>\n",
       "      <td>4.9671</td>\n",
       "      <td>2.0</td>\n",
       "      <td>242.0</td>\n",
       "      <td>17.8</td>\n",
       "      <td>392.83</td>\n",
       "      <td>4.03</td>\n",
       "      <td>34.7</td>\n",
       "    </tr>\n",
       "    <tr>\n",
       "      <th>3</th>\n",
       "      <td>0.03237</td>\n",
       "      <td>0.0</td>\n",
       "      <td>2.18</td>\n",
       "      <td>0.0</td>\n",
       "      <td>0.458</td>\n",
       "      <td>6.998</td>\n",
       "      <td>45.8</td>\n",
       "      <td>6.0622</td>\n",
       "      <td>3.0</td>\n",
       "      <td>222.0</td>\n",
       "      <td>18.7</td>\n",
       "      <td>394.63</td>\n",
       "      <td>2.94</td>\n",
       "      <td>33.4</td>\n",
       "    </tr>\n",
       "    <tr>\n",
       "      <th>4</th>\n",
       "      <td>0.06905</td>\n",
       "      <td>0.0</td>\n",
       "      <td>2.18</td>\n",
       "      <td>0.0</td>\n",
       "      <td>0.458</td>\n",
       "      <td>7.147</td>\n",
       "      <td>54.2</td>\n",
       "      <td>6.0622</td>\n",
       "      <td>3.0</td>\n",
       "      <td>222.0</td>\n",
       "      <td>18.7</td>\n",
       "      <td>396.90</td>\n",
       "      <td>5.33</td>\n",
       "      <td>36.2</td>\n",
       "    </tr>\n",
       "  </tbody>\n",
       "</table>\n",
       "</div>"
      ],
      "text/plain": [
       "      CRIM    ZN  INDUS  CHAS    NOX     RM   AGE     DIS  RAD    TAX  \\\n",
       "0  0.00632  18.0   2.31   0.0  0.538  6.575  65.2  4.0900  1.0  296.0   \n",
       "1  0.02731   0.0   7.07   0.0  0.469  6.421  78.9  4.9671  2.0  242.0   \n",
       "2  0.02729   0.0   7.07   0.0  0.469  7.185  61.1  4.9671  2.0  242.0   \n",
       "3  0.03237   0.0   2.18   0.0  0.458  6.998  45.8  6.0622  3.0  222.0   \n",
       "4  0.06905   0.0   2.18   0.0  0.458  7.147  54.2  6.0622  3.0  222.0   \n",
       "\n",
       "   PTRATIO       B  LSTAT  target  \n",
       "0     15.3  396.90   4.98    24.0  \n",
       "1     17.8  396.90   9.14    21.6  \n",
       "2     17.8  392.83   4.03    34.7  \n",
       "3     18.7  394.63   2.94    33.4  \n",
       "4     18.7  396.90   5.33    36.2  "
      ]
     },
     "execution_count": 58,
     "metadata": {},
     "output_type": "execute_result"
    }
   ],
   "source": [
    "df.head()"
   ]
  },
  {
   "cell_type": "code",
   "execution_count": 59,
   "id": "dda1a692-0fea-4274-83a2-cf03a6bf1d02",
   "metadata": {},
   "outputs": [],
   "source": [
    "df.to_csv(\"toy_boston_houseprice.csv\", index=False)"
   ]
  },
  {
   "cell_type": "code",
   "execution_count": 60,
   "id": "8e567193-9dbe-4aee-b025-a5e798407027",
   "metadata": {},
   "outputs": [
    {
     "name": "stdout",
     "output_type": "stream",
     "text": [
      "<class 'pandas.core.frame.DataFrame'>\n",
      "RangeIndex: 506 entries, 0 to 505\n",
      "Data columns (total 14 columns):\n",
      " #   Column   Non-Null Count  Dtype  \n",
      "---  ------   --------------  -----  \n",
      " 0   CRIM     506 non-null    float64\n",
      " 1   ZN       506 non-null    float64\n",
      " 2   INDUS    506 non-null    float64\n",
      " 3   CHAS     506 non-null    float64\n",
      " 4   NOX      506 non-null    float64\n",
      " 5   RM       506 non-null    float64\n",
      " 6   AGE      506 non-null    float64\n",
      " 7   DIS      506 non-null    float64\n",
      " 8   RAD      506 non-null    float64\n",
      " 9   TAX      506 non-null    float64\n",
      " 10  PTRATIO  506 non-null    float64\n",
      " 11  B        506 non-null    float64\n",
      " 12  LSTAT    506 non-null    float64\n",
      " 13  target   506 non-null    float64\n",
      "dtypes: float64(14)\n",
      "memory usage: 55.5 KB\n"
     ]
    }
   ],
   "source": [
    "df.info()"
   ]
  },
  {
   "cell_type": "markdown",
   "id": "62a4e9c7-da9f-48eb-8f1c-85a87b4691f6",
   "metadata": {},
   "source": [
    "## 학습"
   ]
  },
  {
   "cell_type": "code",
   "execution_count": 61,
   "id": "fb480776-58ac-4378-b953-c5ef918ba1b9",
   "metadata": {},
   "outputs": [],
   "source": [
    "y = df['target']\n",
    "X = df.drop(['target'], axis=1)"
   ]
  },
  {
   "cell_type": "code",
   "execution_count": 62,
   "id": "d8c34bf5-903c-4d03-bfb9-b09c1dcee15f",
   "metadata": {},
   "outputs": [],
   "source": [
    "X_train, X_test, y_train, y_test =train_test_split(X, y, test_size=0.2, random_state=1414)"
   ]
  },
  {
   "cell_type": "markdown",
   "id": "c8d31512-22d8-4450-b23c-64a5f08851b9",
   "metadata": {},
   "source": [
    "## 1차 점수확인 : 무조건 점수부터 보자(결측x, object X)"
   ]
  },
  {
   "cell_type": "code",
   "execution_count": 63,
   "id": "3f96ad38-de8d-4a1a-aa82-c562e5d4b592",
   "metadata": {},
   "outputs": [
    {
     "name": "stdout",
     "output_type": "stream",
     "text": [
      "dict_keys(['alpha', 'copy_X', 'fit_intercept', 'l1_ratio', 'max_iter', 'normalize', 'positive', 'precompute', 'random_state', 'selection', 'tol', 'warm_start'])\n"
     ]
    }
   ],
   "source": [
    "#L1\n",
    "lasso_model = Lasso(alpha=10.0, normalize=False,  random_state=1414, max_iter=1000)\n",
    "#L2\n",
    "ridge_model = Ridge(alpha=10.0, normalize=False,  random_state=1414, max_iter=None)\n",
    "#L1(r):L2(1-r)\n",
    "elastic_moel = ElasticNet(alpha=1.0, normalize=False, random_state=1414, max_iter=1000, l1_ratio=0 )\n",
    "print(elastic_moel.get_params().keys())\n"
   ]
  },
  {
   "cell_type": "code",
   "execution_count": 64,
   "id": "2d2d3f22-c12a-49dd-9128-da7b32672cec",
   "metadata": {},
   "outputs": [
    {
     "name": "stdout",
     "output_type": "stream",
     "text": [
      "Lasso\t MSE:53.1806 RMSE:7.2925\n",
      "Ridge\t MSE:35.3242 RMSE:5.9434\n",
      "ElasticNet\t MSE:37.6954 RMSE:6.1397\n"
     ]
    }
   ],
   "source": [
    "models = [lasso_model, ridge_model, elastic_moel]\n",
    "for model in models:\n",
    "    model.fit(X_train,  y_train,)\n",
    "    pred = model.predict(X_test)\n",
    "    mse  = mean_squared_error(y_test, pred)\n",
    "    rmse = mean_squared_error(y_test, pred, squared=False)\n",
    "    print(f\"{model.__class__.__name__}\\t MSE:{mse:.4f} RMSE:{rmse:.4f}\")"
   ]
  },
  {
   "cell_type": "code",
   "execution_count": 65,
   "id": "c32d798b-c11a-4027-b8bc-f9846719faa2",
   "metadata": {},
   "outputs": [],
   "source": [
    "# alpha=1.0\n",
    "# Lasso\t MSE:39.0914 RMSE:6.2523  + 1 \n",
    "# Ridge\t MSE:34.6178 RMSE:5.8837  1  w \n",
    "# alpha=0\n",
    "# Lasso\t MSE:34.2563 RMSE:5.8529  + 0\n",
    "# Ridge\t MSE:34.2563 RMSE:5.8529  0  w\n",
    "# alpha=10.0\n",
    "# Lasso\t MSE:53.1806 RMSE:7.2925   + 10\n",
    "# Ridge\t MSE:35.3242 RMSE:5.9434   10 w"
   ]
  },
  {
   "cell_type": "markdown",
   "id": "98448f72-7b84-45cb-8c92-3f8c8fd55b53",
   "metadata": {},
   "source": [
    "### 규제 변화에 따른 분산, 편향, 가중치\n",
    "* intercept_ : float or ndarray of shape (n_targets,)\n",
    "* coef_ : ndarray of shape (n_features,) or (n_targets, n_features) Weight vector(s)."
   ]
  },
  {
   "cell_type": "code",
   "execution_count": 66,
   "id": "f18d14cc-c915-46f5-abdc-47a3863ed76d",
   "metadata": {},
   "outputs": [
    {
     "data": {
      "text/plain": [
       "array(['CRIM', 'ZN', 'INDUS', 'CHAS', 'NOX', 'RM', 'AGE', 'DIS', 'RAD',\n",
       "       'TAX', 'PTRATIO', 'B', 'LSTAT'], dtype=object)"
      ]
     },
     "execution_count": 66,
     "metadata": {},
     "output_type": "execute_result"
    }
   ],
   "source": [
    "X_train.columns.values"
   ]
  },
  {
   "cell_type": "code",
   "execution_count": 67,
   "id": "8c5fce0b-56a2-4633-be6d-f41153765194",
   "metadata": {},
   "outputs": [
    {
     "data": {
      "text/plain": [
       "array([-0.07307956,  0.05414576, -0.02206419,  0.14167072, -0.03882176,\n",
       "        0.99380704,  0.01861065, -0.77807621,  0.25953617, -0.01601377,\n",
       "       -0.79515065,  0.00906677, -0.73586704])"
      ]
     },
     "execution_count": 67,
     "metadata": {},
     "output_type": "execute_result"
    }
   ],
   "source": [
    "model.coef_"
   ]
  },
  {
   "cell_type": "code",
   "execution_count": 68,
   "id": "8c75cdb5-e75d-4c95-ba4d-459bcf038731",
   "metadata": {},
   "outputs": [
    {
     "name": "stdout",
     "output_type": "stream",
     "text": [
      "0.01 RMSE:5.8698\n",
      "30.35688149213565\n"
     ]
    },
    {
     "data": {
      "image/png": "[encoded data removed]",
      "text/plain": [
       "<Figure size 432x288 with 1 Axes>"
      ]
     },
     "metadata": {},
     "output_type": "display_data"
    },
    {
     "name": "stdout",
     "output_type": "stream",
     "text": [
      "[-8.67035793e-02  4.35937327e-02  3.44614917e-02  1.43057613e+00\n",
      " -1.35410624e+01  4.24244991e+00 -3.39632650e-03 -1.29654791e+00\n",
      "  2.41916287e-01 -1.26851529e-02 -9.35181612e-01  1.05089491e-02\n",
      " -4.94402239e-01]\n",
      "0 RMSE:5.8529\n",
      "32.545096406450924\n"
     ]
    },
    {
     "data": {
      "image/png": "[encoded data removed]",
      "text/plain": [
       "<Figure size 432x288 with 1 Axes>"
      ]
     },
     "metadata": {},
     "output_type": "display_data"
    },
    {
     "name": "stdout",
     "output_type": "stream",
     "text": [
      "[-8.87363259e-02  4.31259077e-02  4.97820875e-02  1.57751077e+00\n",
      " -1.69788138e+01  4.24341501e+00 -5.61371436e-04 -1.34742559e+00\n",
      "  2.50531860e-01 -1.23959553e-02 -9.71471053e-01  1.03767729e-02\n",
      " -4.89424488e-01]\n",
      "1 RMSE:6.2523\n",
      "38.93978625780908\n"
     ]
    },
    {
     "data": {
      "image/png": "[encoded data removed]",
      "text/plain": [
       "<Figure size 432x288 with 1 Axes>"
      ]
     },
     "metadata": {},
     "output_type": "display_data"
    },
    {
     "name": "stdout",
     "output_type": "stream",
     "text": [
      "[-0.0433166   0.0443276  -0.          0.         -0.          1.23318949\n",
      "  0.01718809 -0.59725928  0.17627666 -0.01297778 -0.7593418   0.00895454\n",
      " -0.72368651]\n",
      "1.5 RMSE:6.5287\n",
      "45.02151496789019\n"
     ]
    },
    {
     "data": {
      "image/png": "[encoded data removed]",
      "text/plain": [
       "<Figure size 432x288 with 1 Axes>"
      ]
     },
     "metadata": {},
     "output_type": "display_data"
    },
    {
     "name": "stdout",
     "output_type": "stream",
     "text": [
      "[-0.02410344  0.04155793 -0.          0.         -0.          0.\n",
      "  0.0318317  -0.33111987  0.14376214 -0.01157516 -0.71710014  0.00793\n",
      " -0.80809281]\n",
      "2 RMSE:6.7052\n",
      "41.31221813598378\n"
     ]
    },
    {
     "data": {
      "image/png": "[encoded data removed]",
      "text/plain": [
       "<Figure size 432x288 with 1 Axes>"
      ]
     },
     "metadata": {},
     "output_type": "display_data"
    },
    {
     "name": "stdout",
     "output_type": "stream",
     "text": [
      "[-0.00482487  0.03189841 -0.          0.         -0.          0.\n",
      "  0.03966509 -0.02431205  0.08295313 -0.00899811 -0.62526757  0.00750765\n",
      " -0.80616953]\n",
      "2.5 RMSE:6.8022\n",
      "38.58751870999201\n"
     ]
    },
    {
     "data": {
      "image/png": "[encoded data removed]",
      "text/plain": [
       "<Figure size 432x288 with 1 Axes>"
      ]
     },
     "metadata": {},
     "output_type": "display_data"
    },
    {
     "name": "stdout",
     "output_type": "stream",
     "text": [
      "[-0.          0.03304373 -0.          0.         -0.          0.\n",
      "  0.03846539 -0.          0.03018511 -0.00741494 -0.48442693  0.00710025\n",
      " -0.79927363]\n",
      "3 RMSE:6.8741\n",
      "36.14498437777185\n"
     ]
    },
    {
     "data": {
      "image/png": "[encoded data removed]",
      "text/plain": [
       "<Figure size 432x288 with 1 Axes>"
      ]
     },
     "metadata": {},
     "output_type": "display_data"
    },
    {
     "name": "stdout",
     "output_type": "stream",
     "text": [
      "[-0.          0.03538824 -0.          0.          0.          0.\n",
      "  0.03670156 -0.          0.         -0.00684674 -0.34331081  0.00675644\n",
      " -0.79044543]\n"
     ]
    }
   ],
   "source": [
    "#L1\n",
    "alphas = [.01,  0,  1, 1.5, 2, 2.5, 3]\n",
    "for a in alphas:\n",
    "    model = Lasso(alpha=a, normalize=False,  random_state=1414, max_iter=1000)\n",
    "    model.fit(X_train,  y_train,)\n",
    "    df = pd.DataFrame({\"col\":X_train.columns.values, \"coef\":model.coef_ })\n",
    "    \n",
    "    pred = model.predict(X_test)\n",
    "    rmse = mean_squared_error(y_test, pred, squared=False)\n",
    "    print(f\"{a} RMSE:{rmse:.4f}\")\n",
    "    print(model.intercept_)\n",
    "    sns.barplot(data=df.sort_values(by='coef'), y='coef' , x=\"col\")\n",
    "    plt.show()\n",
    "    print(df['coef'].values)\n",
    "    "
   ]
  },
  {
   "cell_type": "code",
   "execution_count": 69,
   "id": "3262f784-8845-4a7e-87a7-7578616bed91",
   "metadata": {},
   "outputs": [
    {
     "name": "stdout",
     "output_type": "stream",
     "text": [
      "0.01 RMSE:5.8531\n",
      "32.4502552721827\n"
     ]
    },
    {
     "data": {
      "image/png": "[encoded data removed]",
      "text/plain": [
       "<Figure size 432x288 with 1 Axes>"
      ]
     },
     "metadata": {},
     "output_type": "display_data"
    },
    {
     "name": "stdout",
     "output_type": "stream",
     "text": [
      "[-8.86572457e-02  4.31493390e-02  4.91451234e-02  1.57710983e+00\n",
      " -1.68385928e+01  4.24413567e+00 -6.95796820e-04 -1.34553093e+00\n",
      "  2.50167309e-01 -1.24064888e-02 -9.69912515e-01  1.03819385e-02\n",
      " -4.89569641e-01]\n",
      "0 RMSE:5.8529\n",
      "32.54509640645075\n"
     ]
    },
    {
     "data": {
      "image/png": "[encoded data removed]",
      "text/plain": [
       "<Figure size 432x288 with 1 Axes>"
      ]
     },
     "metadata": {},
     "output_type": "display_data"
    },
    {
     "name": "stdout",
     "output_type": "stream",
     "text": [
      "[-8.87363259e-02  4.31259077e-02  4.97820875e-02  1.57751077e+00\n",
      " -1.69788138e+01  4.24341501e+00 -5.61371436e-04 -1.34742559e+00\n",
      "  2.50531860e-01 -1.23959553e-02 -9.71471053e-01  1.03767729e-02\n",
      " -4.89424488e-01]\n",
      "1 RMSE:5.8837\n",
      "27.471420387161572\n"
     ]
    },
    {
     "data": {
      "image/png": "[encoded data removed]",
      "text/plain": [
       "<Figure size 432x288 with 1 Axes>"
      ]
     },
     "metadata": {},
     "output_type": "display_data"
    },
    {
     "name": "stdout",
     "output_type": "stream",
     "text": [
      "[-8.44234679e-02  4.44827870e-02  1.47711873e-02  1.53165026e+00\n",
      " -9.26654612e+00  4.26556035e+00 -7.80414607e-03 -1.24321200e+00\n",
      "  2.31025715e-01 -1.29993098e-02 -8.86838258e-01  1.06555292e-02\n",
      " -4.98648746e-01]\n",
      "1.5 RMSE:5.8952\n",
      "26.43053525000297\n"
     ]
    },
    {
     "data": {
      "image/png": "[encoded data removed]",
      "text/plain": [
       "<Figure size 432x288 with 1 Axes>"
      ]
     },
     "metadata": {},
     "output_type": "display_data"
    },
    {
     "name": "stdout",
     "output_type": "stream",
     "text": [
      "[-8.34859942e-02  4.48258403e-02  6.99955221e-03  1.50757595e+00\n",
      " -7.55261825e+00  4.25981283e+00 -9.32226961e-03 -1.22004171e+00\n",
      "  2.27016232e-01 -1.31476125e-02 -8.68677913e-01  1.07140916e-02\n",
      " -5.01454656e-01]\n",
      "2 RMSE:5.9040\n",
      "25.762599389514758\n"
     ]
    },
    {
     "data": {
      "image/png": "[encoded data removed]",
      "text/plain": [
       "<Figure size 432x288 with 1 Axes>"
      ]
     },
     "metadata": {},
     "output_type": "display_data"
    },
    {
     "name": "stdout",
     "output_type": "stream",
     "text": [
      "[-8.28521249e-02  4.50846303e-02  1.65795260e-03  1.48378464e+00\n",
      " -6.37423686e+00  4.24995677e+00 -1.03157224e-02 -1.20410033e+00\n",
      "  2.24435095e-01 -1.32571495e-02 -8.56539692e-01  1.07523969e-02\n",
      " -5.03801630e-01]\n",
      "2.5 RMSE:5.9109\n",
      "25.315763988029705\n"
     ]
    },
    {
     "data": {
      "image/png": "[encoded data removed]",
      "text/plain": [
       "<Figure size 432x288 with 1 Axes>"
      ]
     },
     "metadata": {},
     "output_type": "display_data"
    },
    {
     "name": "stdout",
     "output_type": "stream",
     "text": [
      "[-8.23981076e-02  4.52930454e-02 -2.24068752e-03  1.46049701e+00\n",
      " -5.51428818e+00  4.23772000e+00 -1.09979129e-02 -1.19245396e+00\n",
      "  2.22698700e-01 -1.33433854e-02 -8.47972047e-01  1.07786288e-02\n",
      " -5.05871003e-01]\n",
      "3 RMSE:5.9164\n",
      "25.01050219446225\n"
     ]
    },
    {
     "data": {
      "image/png": "[encoded data removed]",
      "text/plain": [
       "<Figure size 432x288 with 1 Axes>"
      ]
     },
     "metadata": {},
     "output_type": "display_data"
    },
    {
     "name": "stdout",
     "output_type": "stream",
     "text": [
      "[-0.08205916  0.04546884 -0.00521323  1.43780749 -4.85904651  4.22400724\n",
      " -0.0114806  -1.18356585  0.22150157 -0.01341443 -0.84169133  0.01079708\n",
      " -0.50775781]\n"
     ]
    }
   ],
   "source": [
    "#L2\n",
    "alphas = [.01,  0,  1, 1.5, 2, 2.5, 3]\n",
    "for a in alphas:\n",
    "    model = Ridge(alpha=a, normalize=False,  random_state=1414, max_iter=1000)\n",
    "    model.fit(X_train,  y_train,)\n",
    "    df = pd.DataFrame({\"col\":X_train.columns.values, \"coef\":model.coef_ })\n",
    "    \n",
    "    pred = model.predict(X_test)\n",
    "    rmse = mean_squared_error(y_test, pred, squared=False)\n",
    "    print(f\"{a} RMSE:{rmse:.4f}\")\n",
    "    print(model.intercept_)\n",
    "    sns.barplot(data=df.sort_values(by='coef'), y='coef' , x=\"col\")\n",
    "    plt.show()\n",
    "    print(df['coef'].values)\n"
   ]
  },
  {
   "cell_type": "markdown",
   "id": "c5da21d4-b4a0-47a4-8056-a523ade5aff8",
   "metadata": {},
   "source": [
    "## Voting 앙상블"
   ]
  },
  {
   "cell_type": "code",
   "execution_count": 70,
   "id": "ef01bac2-2291-4eb7-b256-e66273fcc908",
   "metadata": {},
   "outputs": [
    {
     "name": "stdout",
     "output_type": "stream",
     "text": [
      "dict_keys(['alpha', 'copy_X', 'fit_intercept', 'l1_ratio', 'max_iter', 'normalize', 'positive', 'precompute', 'random_state', 'selection', 'tol', 'warm_start'])\n",
      "3 MSE:28.1640  RMSE:5.3070\n"
     ]
    }
   ],
   "source": [
    "lr = LinearRegression(fit_intercept=True, normalize=False)\n",
    "rf = RandomForestRegressor(n_estimators=100,\n",
    "                 criterion=\"mse\",   #{\"mse\", \"mae\"}, default=\"mse\"\n",
    "                 max_depth=None,\n",
    "                 min_samples_split=2,\n",
    "                 min_samples_leaf=1,\n",
    "                 bootstrap=True,\n",
    "                 oob_score=False,\n",
    "                 random_state=1414)\n",
    "\n",
    "#L1\n",
    "lasso_model = Lasso(alpha=1.0, normalize=False,  random_state=1414, max_iter=1000)\n",
    "#L2\n",
    "ridge_model = Ridge(alpha=1.0, normalize=False,  random_state=1414, max_iter=None)\n",
    "#L1(r):L2(1-r)\n",
    "elastic_moel = ElasticNet(alpha=1.0, normalize=False, random_state=1414, max_iter=1000, l1_ratio=0.7 )\n",
    "print(elastic_moel.get_params().keys())\n",
    "\n",
    "#estimators : list of (str, estimator) tuples\n",
    "voting_model = VotingRegressor( estimators=[(\"LR\", lr),(\"FOREST\", rf),\n",
    "                                      (\"LASSO\", lasso_model),\n",
    "                                      (\"RIDGE\", ridge_model)])\n",
    "\n",
    "voting_model.fit(X_train, y_train)\n",
    "pred = voting_model.predict(X_test)\n",
    "# rmse = mean_squared_error(y_test, pred, squared=False)\n",
    "# print(f\"{a} MSE:{np.square(rmse):.4f}  RMSE:{rmse:.4f}\")\n",
    "\n",
    "mse = mean_squared_error(y_test, pred, squared=True)\n",
    "print(f\"{a} MSE:{mse:.4f}  RMSE:{np.sqrt(mse):.4f}\")\n",
    "\n"
   ]
  },
  {
   "cell_type": "code",
   "execution_count": 71,
   "id": "0dfb3955-6f0b-4d41-9763-1bce4d162283",
   "metadata": {},
   "outputs": [],
   "source": [
    "# 원본\n",
    "# 3 MSE:28.1640  RMSE:5.3070\n",
    "\n",
    "\n",
    "\n",
    "# ------------------- 원본 -------------\n",
    "# Lasso\t MSE:53.1806 RMSE:7.2925\n",
    "# Ridge\t MSE:35.3242 RMSE:5.9434\n",
    "# ElasticNet\t MSE:37.6954 RMSE:6.1397\n",
    "\n",
    "# --------------------앙상블1차 ---------------\n",
    "# voting_model = VotingRegressor( estimators=[(\"LR\", lr),(\"FOREST\", rf),\n",
    "#                                       (\"LASSO\", lasso_model),\n",
    "#                                       (\"RIDGE\", ridge_model)])\n",
    "\n",
    "# --------------------앙상블2차 ---------------\n",
    "# voting_model = VotingRegressor( estimators=[(\"forest\", rf),\n",
    "#                                       (\"dt\", dt),\n",
    "#                                       (\"xgboost\", xgboost),\n",
    "#                                       (\"lgbm\", lgbm)     \n",
    "#                                     ])\n",
    "# MSE:37.6954  RMSE:6.1397\n"
   ]
  },
  {
   "cell_type": "code",
   "execution_count": 72,
   "id": "4f30d7c2-429e-40dc-b209-7af1ed3f52cb",
   "metadata": {},
   "outputs": [
    {
     "name": "stdout",
     "output_type": "stream",
     "text": [
      "3 MSE:16.4754  RMSE:4.0590\n"
     ]
    }
   ],
   "source": [
    "dt = DecisionTreeRegressor()\n",
    "xgboost = XGBRegressor()\n",
    "lgbm = LGBMRegressor()\n",
    "\n",
    "\n",
    "#estimators : list of (str, estimator) tuples\n",
    "voting_model = VotingRegressor( estimators=[(\"forest\", rf),\n",
    "                                      (\"dt\", dt),\n",
    "                                      (\"xgboost\", xgboost),\n",
    "                                      (\"lgbm\", lgbm)     \n",
    "                                    ])\n",
    "\n",
    "voting_model.fit(X_train, y_train)\n",
    "pred = voting_model.predict(X_test)\n",
    "\n",
    "mse = mean_squared_error(y_test, pred, squared=True)\n",
    "print(f\"{a} MSE:{mse:.4f}  RMSE:{np.sqrt(mse):.4f}\")"
   ]
  },
  {
   "cell_type": "markdown",
   "id": "62bf19df-6ee2-40d9-9d98-8fb1943ac239",
   "metadata": {},
   "source": [
    "## Bagging 앙상블"
   ]
  },
  {
   "cell_type": "code",
   "execution_count": 73,
   "id": "5646ac9b-725d-41e3-a6c4-21087a013368",
   "metadata": {},
   "outputs": [
    {
     "name": "stdout",
     "output_type": "stream",
     "text": [
      "3 MSE:19.5802  RMSE:4.4249\n"
     ]
    }
   ],
   "source": [
    "bagging_model = BaggingRegressor(base_estimator=xgboost,  # None = DecisionTreeRegressor.\n",
    "                 n_estimators=10,\n",
    "                 max_samples=1.0,\n",
    "                 max_features=1.0,\n",
    "                 bootstrap=True,\n",
    "                 oob_score=False,\n",
    "                 random_state=1414)\n",
    "bagging_model.fit(X_train, y_train)\n",
    "pred = bagging_model.predict(X_test)\n",
    "mse = mean_squared_error(y_test, pred, squared=True)\n",
    "print(f\"{a} MSE:{mse:.4f}  RMSE:{np.sqrt(mse):.4f}\")"
   ]
  },
  {
   "cell_type": "markdown",
   "id": "3af8f4e7-7085-4e13-bccd-c66489c179f9",
   "metadata": {},
   "source": [
    "## Boosting 앙상블 "
   ]
  },
  {
   "cell_type": "code",
   "execution_count": 74,
   "id": "0dc5cd85-9711-42f6-b1a2-db878e7e56ad",
   "metadata": {},
   "outputs": [],
   "source": [
    "# bagging_model = GradientBoostingRegressor()\n",
    "# bagging_model.fit(X_train, y_train)\n",
    "# pred = bagging_model.predict(X_test)\n",
    "# mse = mean_squared_error(y_test, pred, squared=False)\n",
    "# print(f\"{a} MSE:{mse:.4f}  RMSE:{np.sqrt(mse):.4f}\")\n",
    "# #3 MSE:3.2558  RMSE:1.8044"
   ]
  },
  {
   "cell_type": "code",
   "execution_count": 75,
   "id": "5ce45297-22ae-4716-bab1-109db40748b4",
   "metadata": {},
   "outputs": [
    {
     "name": "stdout",
     "output_type": "stream",
     "text": [
      "3 MSE:9.8625  RMSE:3.1405  R2:0.8906\n"
     ]
    }
   ],
   "source": [
    "# 기본트리 DecisionTreeRegressor 를 가중치를 주면서 학습 : 모델 강화\n",
    "boosting_model = GradientBoostingRegressor(loss='ls', learning_rate=0.1, n_estimators=100,\n",
    "                 subsample=1.0, criterion='friedman_mse',  #{'friedman_mse', 'mse', 'mae'}\n",
    "                          random_state=1414, alpha=0.9)\n",
    "boosting_model.fit(X_train, y_train)\n",
    "pred = boosting_model.predict(X_test)\n",
    "mse = mean_squared_error(y_test, pred, squared=True)\n",
    "mse = mean_squared_error(y_test, pred, squared=True)\n",
    "r2 = r2_score(y_test, pred)\n",
    "print(f\"{a} MSE:{mse:.4f}  RMSE:{np.sqrt(mse):.4f}  R2:{r2:.4f}\")"
   ]
  },
  {
   "cell_type": "markdown",
   "id": "147d38e0-21b6-4466-84b2-a8a8e47baa44",
   "metadata": {},
   "source": [
    "## PipeLine \n",
    "* Preprocessing and Normalization  -- step list"
   ]
  },
  {
   "cell_type": "code",
   "execution_count": 76,
   "id": "9e0d2aae-a90c-4831-8913-9c8ca4cbfca5",
   "metadata": {},
   "outputs": [
    {
     "data": {
      "text/plain": [
       "0.8906085633048834"
      ]
     },
     "execution_count": 76,
     "metadata": {},
     "output_type": "execute_result"
    }
   ],
   "source": [
    "from sklearn.pipeline import Pipeline\n",
    "ss = StandardScaler()\n",
    "pipe = Pipeline(steps=[\n",
    "                        #(\"ENCODING\",LabelEncoder()),\n",
    "                        (\"SCALER\", ss),\n",
    "                        (\"MODELFIT\",boosting_model)\n",
    "                      ]\n",
    "                )\n",
    "pipe.fit(X_train, y_train)\n",
    "pipe.score(X_test, y_test)  #R2, Accuracy"
   ]
  },
  {
   "cell_type": "code",
   "execution_count": null,
   "id": "7a441a79-973b-46a8-87c5-3871d8623a09",
   "metadata": {},
   "outputs": [],
   "source": []
  },
  {
   "cell_type": "code",
   "execution_count": null,
   "id": "cf443eca-017d-4e55-aac3-4fe615e06065",
   "metadata": {},
   "outputs": [],
   "source": []
  },
  {
   "cell_type": "code",
   "execution_count": null,
   "id": "17779f72-6674-4b5c-a581-101f54e498ec",
   "metadata": {},
   "outputs": [],
   "source": []
  },
  {
   "cell_type": "code",
   "execution_count": null,
   "id": "33a79db7-73a0-4fbf-8c2f-b75e0c09d9cc",
   "metadata": {},
   "outputs": [],
   "source": []
  },
  {
   "cell_type": "code",
   "execution_count": null,
   "id": "2e5acd4e-bfd1-400f-8feb-729c5e3e438a",
   "metadata": {},
   "outputs": [],
   "source": []
  },
  {
   "cell_type": "code",
   "execution_count": null,
   "id": "98046b27-e7d6-45cd-94ba-9fa03c5ce793",
   "metadata": {},
   "outputs": [],
   "source": []
  },
  {
   "cell_type": "code",
   "execution_count": null,
   "id": "f473f18b-d1b9-42d5-81ef-0cb0a5abe9ef",
   "metadata": {},
   "outputs": [],
   "source": []
  }
 ],
 "metadata": {
  "kernelspec": {
   "display_name": "Python 3 (ipykernel)",
   "language": "python",
   "name": "python3"
  },
  "language_info": {
   "codemirror_mode": {
    "name": "ipython",
    "version": 3
   },
   "file_extension": ".py",
   "mimetype": "text/x-python",
   "name": "python",
   "nbconvert_exporter": "python",
   "pygments_lexer": "ipython3",
   "version": "3.8.8"
  }
 },
 "nbformat": 4,
 "nbformat_minor": 5
}
