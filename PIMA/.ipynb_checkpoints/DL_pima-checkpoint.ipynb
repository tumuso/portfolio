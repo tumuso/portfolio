{
 "cells": [
  {
   "cell_type": "markdown",
   "id": "22ca701f-15ed-4a0e-aa76-5f3bc9c4aefb",
   "metadata": {},
   "source": [
    "<img src='https://storage.googleapis.com/kaggle-datasets-images/228/482/a520351269b547c89afe790820a1087e/dataset-cover.jpeg'>\n",
    "* ref : kaggle  : https://www.kaggle.com/uciml/pima-indians-diabetes-database\n",
    "    \n",
    "    "
   ]
  },
  {
   "cell_type": "code",
   "execution_count": null,
   "id": "a2edc99a-5007-43e4-9033-263a750fbd5f",
   "metadata": {},
   "outputs": [],
   "source": [
    "import pandas as pd\n",
    "import numpy as np\n",
    "import matplotlib.pyplot as plt\n",
    "import seaborn as sns\n",
    "import warnings\n",
    "warnings.filterwarnings(action='ignore')\n",
    "sns.set()\n",
    "\n",
    "from sklearn.model_selection import train_test_split\n",
    "from sklearn.metrics import accuracy_score\n",
    "\n",
    "#---NN---------------------------------------------------\n",
    "from tensorflow import keras\n",
    "from tensorflow.keras import layers\n",
    "from keras.models import Sequential\n",
    "from keras.layers import Dense\n",
    "import tensorflow as tf\n",
    "from keras.callbacks import EarlyStopping\n",
    "from keras.callbacks import ModelCheckpoint\n",
    "\n",
    "sns.set()"
   ]
  },
  {
   "cell_type": "markdown",
   "id": "8480dbc1-40b5-4243-a96a-97ec942409ba",
   "metadata": {},
   "source": [
    "# 1. Data Collection"
   ]
  },
  {
   "cell_type": "code",
   "execution_count": null,
   "id": "9a25f1c1-0702-4e4c-bbb8-fc872f5834fa",
   "metadata": {},
   "outputs": [],
   "source": [
    "df = pd.read_csv(\"./diabetes.csv\")\n",
    "print(df.info())"
   ]
  },
  {
   "cell_type": "code",
   "execution_count": null,
   "id": "5fd848e7-fd16-456f-936d-90b17a75620d",
   "metadata": {},
   "outputs": [],
   "source": [
    "df.hist()\n",
    "plt.show()"
   ]
  },
  {
   "cell_type": "code",
   "execution_count": null,
   "id": "106d66a8-57be-40e6-beb5-332854a4b840",
   "metadata": {},
   "outputs": [],
   "source": []
  },
  {
   "cell_type": "markdown",
   "id": "3a1ed273-144a-4bce-86bd-d150f6654594",
   "metadata": {},
   "source": [
    "# NN\n",
    "### 랜덤시드 고정"
   ]
  },
  {
   "cell_type": "code",
   "execution_count": null,
   "id": "9d523200-bf4f-46ef-a9e1-85ca43877d85",
   "metadata": {},
   "outputs": [],
   "source": [
    "np.random.seed(1414)\n",
    "tf.random.set_seed(1414)"
   ]
  },
  {
   "cell_type": "markdown",
   "id": "47369467-802a-4bfd-bc48-5156b860a2b7",
   "metadata": {},
   "source": [
    "## X,y(학습 피쳐, 타겟)분리"
   ]
  },
  {
   "cell_type": "code",
   "execution_count": null,
   "id": "14ec3235-2c71-4362-8d1d-a33552fa672b",
   "metadata": {},
   "outputs": [],
   "source": [
    "y = df[\"Outcome\"]\n",
    "X = df.drop([\"Outcome\"], axis=1)"
   ]
  },
  {
   "cell_type": "markdown",
   "id": "88165c80-2dfe-4a1c-8c8c-747e519e1e86",
   "metadata": {},
   "source": [
    "# 모델"
   ]
  },
  {
   "cell_type": "code",
   "execution_count": null,
   "id": "fba72b58-c45e-459f-84d5-4ab79dbf962b",
   "metadata": {},
   "outputs": [],
   "source": [
    "# model= decesionTree() -------- M.L xxxxxxxx\n",
    "model = Sequential()\n",
    "model.add(Dense(units=10, activation=\"relu\", input_dim=8)) # input_dim == shape 피쳐갯수 (506,9)\n",
    "model.add(Dense(units=8, activation=\"relu\"))\n",
    "model.add(Dense(units=4, activation=\"relu\"))\n",
    "model.add(Dense(units=1, activation=\"sigmoid\"))\n",
    "#adam=momentom+adaboost))\n",
    "model.compile(loss=\"binary_crossentropy\", optimizer=\"adam\", metrics=[\"accuracy\"])\n",
    "#l,o,m"
   ]
  },
  {
   "cell_type": "markdown",
   "id": "08f786fd-b470-42d5-a6b6-e9ce5bde79b2",
   "metadata": {},
   "source": [
    "### 8:2 데이터 나누기 +  학습(fit)\n",
    "* initial_epoch = 0,\n",
    "* steps_per_epoch = None,\n",
    "* validation_steps = None,\n",
    "* validation_batch_size = None,"
   ]
  },
  {
   "cell_type": "code",
   "execution_count": null,
   "id": "276c367f-9e24-42f9-a55e-258ecb1ad9e9",
   "metadata": {},
   "outputs": [],
   "source": [
    "X_train, X_val, y_train, y_val = train_test_split(X, y, test_size=0.2)\n",
    "# model.fit(X_train,y_train,validation_data=(X_val,y_val),batch_size=10,epochs=100,shuffle=True)"
   ]
  },
  {
   "cell_type": "markdown",
   "id": "885c798d-d04e-418b-91c7-92eb7d842b5f",
   "metadata": {},
   "source": [
    "### callback  (EarlyStopping, CheckPoint)\n",
    "* EarlyStopping : 오버피팅 시 학습 중단\n",
    "* CheckPoint : epoch 수행 후 점수가 좋아지면 해당 모델을 저장"
   ]
  },
  {
   "cell_type": "code",
   "execution_count": null,
   "id": "c6f4a7ba-5777-4356-82b9-2cdc193cee11",
   "metadata": {},
   "outputs": [],
   "source": [
    "stopping = EarlyStopping(monitor=\"val_loss\", patience=10)\n",
    "#os.path\n",
    "# import os\n",
    "\n",
    "# model_dir= \"/content/drive/MyDrive/Colab Notebooks/포트폴리오/nural network/save_models/\"\n",
    "# if not os.path.exists(model_dir):\n",
    "#     print(\"path error~!!!!\")\n",
    "# else:\n",
    "#     print(\"path ok~!!!!\")\n",
    "\n",
    "model_path = \"./save_models/{epoch:03d}_{val_loss:.4f}.hdf5\"\n",
    "checkpoint = ModelCheckpoint(model_path, monitor=\"val_loss\", save_best_only=True, period=1)"
   ]
  },
  {
   "cell_type": "markdown",
   "id": "1bdd7456-86c0-4e08-b094-4054277a5908",
   "metadata": {},
   "source": [
    "# 학습시작"
   ]
  },
  {
   "cell_type": "code",
   "execution_count": null,
   "id": "ba5dab3f-0c66-404a-ba36-0fa93d5fc08c",
   "metadata": {},
   "outputs": [],
   "source": [
    "# ----------------- 나누기\n",
    "history = model.fit(X_train, y_train, validation_data=(X_val, y_val), \n",
    "                    batch_size=10, epochs=100, verbose='auto', shuffle=True,\n",
    "                    callbacks=[stopping,checkpoint] \n",
    "                    )\n",
    "# model.fit(X, y, validation_split=0.2, validation_data=(X_val,y_val), batch_size=10, epochs=100 )"
   ]
  },
  {
   "cell_type": "markdown",
   "id": "066a1dd6-a621-4cff-88e3-f9fd6d7de147",
   "metadata": {},
   "source": [
    "# Callback (EarlyStopping(monitor))"
   ]
  },
  {
   "cell_type": "markdown",
   "id": "30a5fbfb-7ac7-414d-9a6c-ce4e7108eb95",
   "metadata": {},
   "source": [
    "# 점수확인"
   ]
  },
  {
   "cell_type": "code",
   "execution_count": null,
   "id": "66688005-d450-4332-9ebf-baa5d5b0adcc",
   "metadata": {},
   "outputs": [],
   "source": [
    "train_loss= history.history [\"loss\"]\n",
    "print(train_loss)"
   ]
  },
  {
   "cell_type": "code",
   "execution_count": null,
   "id": "86236fd8-e01d-4a35-b83a-8b8df73da3e5",
   "metadata": {},
   "outputs": [],
   "source": [
    "val_loss = history. history[\"val_loss\"]\n",
    "print(val_loss)"
   ]
  },
  {
   "cell_type": "code",
   "execution_count": null,
   "id": "a640c9d8-f7f1-41ad-9845-9fa784fa873c",
   "metadata": {},
   "outputs": [],
   "source": [
    "score = model.evaluate(X_val, y_val)\n",
    "print(score)"
   ]
  },
  {
   "cell_type": "code",
   "execution_count": null,
   "id": "f643c46e-5846-46b0-bdcc-60af72451f06",
   "metadata": {},
   "outputs": [],
   "source": [
    "f = plt.subplots(figsize=(12, 9))\n",
    "plt.plot(np.arange(len(val_loss)), train_loss, c=\"red\",label=\"train\")\n",
    "plt.plot(np.arange(len(val_loss)), val_loss, c=\"blue\", label=\"test\")\n",
    "plt.legend()\n",
    "plt.show()"
   ]
  },
  {
   "cell_type": "code",
   "execution_count": null,
   "id": "71331dc7-dd81-47a7-bff8-9bcd36b16a34",
   "metadata": {},
   "outputs": [],
   "source": [
    "train_acc = history.history['accuracy']\n",
    "print(train_acc)"
   ]
  },
  {
   "cell_type": "code",
   "execution_count": null,
   "id": "9f0df20d-b54c-4d57-ab7e-1e2bc763d113",
   "metadata": {},
   "outputs": [],
   "source": [
    "val_acc = history.history['val_accuracy']\n",
    "print(val_acc)"
   ]
  },
  {
   "cell_type": "code",
   "execution_count": null,
   "id": "98d3eb44-1af4-4b43-81dc-4ec34e25903f",
   "metadata": {},
   "outputs": [],
   "source": [
    "f = plt.subplots(figsize=(12, 9))\n",
    "plt.plot(np.arange(len(train_acc)), train_acc, c='r', label='train_acc')\n",
    "plt.plot(np.arange(len(train_acc)), val_acc, c='b', label='val_acc')\n",
    "plt.legend()\n",
    "plt.show()"
   ]
  }
 ],
 "metadata": {
  "kernelspec": {
   "display_name": "Python 3 (ipykernel)",
   "language": "python",
   "name": "python3"
  },
  "language_info": {
   "codemirror_mode": {
    "name": "ipython",
    "version": 3
   },
   "file_extension": ".py",
   "mimetype": "text/x-python",
   "name": "python",
   "nbconvert_exporter": "python",
   "pygments_lexer": "ipython3",
   "version": "3.8.8"
  }
 },
 "nbformat": 4,
 "nbformat_minor": 5
}
