{
 "cells": [
  {
   "cell_type": "markdown",
   "id": "a5ca93a4-d268-4221-9413-9f37bd0a7a20",
   "metadata": {
    "tags": []
   },
   "source": [
    "# PIMA DATA"
   ]
  },
  {
   "cell_type": "markdown",
   "id": "d5d311cc-0251-406b-aea8-c7e18bd13bcf",
   "metadata": {},
   "source": [
    "<img src='https://storage.googleapis.com/kaggle-datasets-images/228/482/a520351269b547c89afe790820a1087e/dataset-cover.jpeg'>\n",
    "* ref : kaggle  : https://www.kaggle.com/uciml/pima-indians-diabetes-database"
   ]
  },
  {
   "cell_type": "markdown",
   "id": "74dde840-dad9-4cfe-bb42-d633a18885c3",
   "metadata": {},
   "source": [
    "#### 환자가 당뇨병을 가지고 있는지 예측 --> 분류문제"
   ]
  },
  {
   "cell_type": "code",
   "execution_count": 2,
   "id": "1e05eb51-d38e-4271-a8c3-72e735227130",
   "metadata": {},
   "outputs": [],
   "source": [
    "import numpy as np\n",
    "import pandas as pd\n",
    "import matplotlib.pyplot as plt\n",
    "import seaborn as sns\n",
    "\n",
    "from sklearn.model_selection import train_test_split   # def    # 데이터 분할 함수\n",
    "from sklearn.tree import DecisionTreeClassifier        # class\n",
    "from sklearn.ensemble import RandomForestClassifier    # class\n",
    "from sklearn.metrics import accuracy_score             # def    # 평가 지표 함수\n",
    "from sklearn.metrics import f1_score, precision_score, recall_score, classification_report, confusion_matrix\n",
    "from sklearn.metrics import precision_recall_curve, plot_precision_recall_curve\n",
    "from sklearn.metrics import roc_curve, roc_auc_score, plot_roc_curve\n",
    "from sklearn.preprocessing import Binarizer\n",
    "\n",
    "import warnings\n",
    "warnings.filterwarnings(action='ignore')\n",
    "\n",
    "sns.set()"
   ]
  },
  {
   "cell_type": "markdown",
   "id": "0189fb57-a43c-42a5-a710-bea02e1468cc",
   "metadata": {},
   "source": [
    "## 1. Data Collection"
   ]
  },
  {
   "cell_type": "code",
   "execution_count": null,
   "id": "7a776d9f-ea2a-429f-9486-12f1a086273d",
   "metadata": {},
   "outputs": [],
   "source": [
    "pima = pd.read_csv(\"./pima.csv\")"
   ]
  },
  {
   "cell_type": "markdown",
   "id": "19cbd0b0-d68f-49d7-b7fd-ef5a06f52a7a",
   "metadata": {},
   "source": [
    "#### 데이터 컬럼\n",
    "* Pregnancies(임신 횟수)\n",
    "\n",
    "* Glucose(포도당)\n",
    ": 경구 포도당 내성 검사에서 2시간 동안의 혈장 포도당 농도 / 포도당 부하 검사 수치\n",
    "* BloodPressure(혈압)\n",
    ": 이완기 혈압(mmHg)\n",
    "* SkinThickness(피부두께)\n",
    ": 삼두근 피부 주름 두께(mm) / 삼두근 뒤쪽의 피하지방 측정값(mm)\n",
    "* Insulin(인슐린)\n",
    ": 2시간 혈청 인슐린(mu U/ml)\n",
    "* BMI(체질량지수)\n",
    ": 체질량지수(체중(kg)/(키(m)^2)\n",
    "* DiabetesPedigreeFunction(당뇨병 가계기능)\n",
    ": 당뇨병 가계도 기능 / 당뇨 내력 가중치 값\n",
    "* Age(나이)\n",
    ": 나이\n",
    "* Outcome(결과)\n",
    ": 클래스 결정 값(0 또는 1)"
   ]
  },
  {
   "cell_type": "markdown",
   "id": "a67b2e7b-5ac7-4653-b8f0-b7248c2fee9e",
   "metadata": {},
   "source": [
    "## 2. EDA(Explore Data Analysis)"
   ]
  },
  {
   "cell_type": "code",
   "execution_count": null,
   "id": "aa62945b-78aa-4ba3-969b-e07563ef79f8",
   "metadata": {},
   "outputs": [],
   "source": [
    "# 데이터 확인\n",
    "pima.head()"
   ]
  },
  {
   "cell_type": "code",
   "execution_count": null,
   "id": "fa06736b-ddce-4704-9d4f-346237338d9f",
   "metadata": {},
   "outputs": [],
   "source": [
    "# 크기\n",
    "pima.shape"
   ]
  },
  {
   "cell_type": "code",
   "execution_count": null,
   "id": "ac594856-5ace-41e2-8889-51b03ab0898d",
   "metadata": {},
   "outputs": [],
   "source": [
    "# 데이터 형식\n",
    "pima.info()"
   ]
  },
  {
   "cell_type": "code",
   "execution_count": null,
   "id": "e9d4249f-d9e3-41ed-8600-d659d9ada8c7",
   "metadata": {},
   "outputs": [],
   "source": [
    "# 데이터 요약\n",
    "pima.describe()"
   ]
  },
  {
   "cell_type": "code",
   "execution_count": null,
   "id": "0ba2f3f9-e289-4347-9c15-1f3a46be85fc",
   "metadata": {},
   "outputs": [],
   "source": [
    "sns.set()\n",
    "pima.hist()\n",
    "plt.show()"
   ]
  },
  {
   "cell_type": "markdown",
   "id": "5f4bdcfe-c5fc-45d1-b0f5-a6e6e20295ae",
   "metadata": {},
   "source": [
    "# 공통함수 "
   ]
  },
  {
   "cell_type": "code",
   "execution_count": null,
   "id": "147d89c2-cc9d-4e98-8903-66dc6df1c322",
   "metadata": {},
   "outputs": [],
   "source": [
    "# def my_eval(y_val, pred, proba, th,  avg=None):  # avg='binary'\n",
    "#     accuracy = accuracy_score(y_val, pred)\n",
    "#     f1 = f1_score(y_val, pred, average=avg)\n",
    "#     precision = precision_score(y_val, pred, average=avg)\n",
    "#     recall = recall_score(y_val, pred, average=avg)\n",
    "#     con_matrix = confusion_matrix(y_val, pred)\n",
    "#     # cls_report = classification_report(y_val, pred)\n",
    "#     print(f'정확도{accuracy:.4f} 정밀도:{precision:.4f} 재현률:{recall:.4f} f1:{f1:.4f}')\n",
    "#     print(\"오차행렬:\\n\", con_matrix)\n",
    "\n",
    "#     # plot_precision_recall_curve(rf_model, X_val, y_val)\n",
    "#     precisions, recalls, ths = precision_recall_curve(y_val, proba[:, 1])\n",
    "#     plt.title(\"precision recall curv %0.2f  %0.4f\"%(th, f1))\n",
    "#     plt.xlabel(\"threadhold\")\n",
    "#     plt.ylabel(\"value\")\n",
    "#     plt.grid()\n",
    "#     plt.plot(ths, precisions[:ths.shape[0]], 'b', label=\"precision\")\n",
    "#     plt.plot(ths, recalls[:ths.shape[0]], 'r', linestyle=\"--\", label=\"recall\")\n",
    "#     plt.legend()\n",
    "#     plt.show()\n",
    "\n",
    "#     auc_score = roc_auc_score(y_val, proba[:,1])\n",
    "#     fprs, tprs, ths = roc_curve(y_val, proba[:,1])\n",
    "#     plt.title(\"roc curv %0.4f\" % auc_score)\n",
    "#     plt.xlabel(\"FPR(1-specificity)\")\n",
    "#     plt.ylabel(\"TPR\")\n",
    "#     plt.grid()\n",
    "#     plt.plot(fprs, tprs, 'b')\n",
    "#     plt.plot([0,1],[0,1],'--',color=\"black\")\n",
    "#     plt.show()\n",
    "\n",
    "\n",
    "\n",
    "# def split_fit_score(X, y, model=None, test_size=0.2):\n",
    "#     X_train, X_val, y_train, y_val = train_test_split(X, y,\n",
    "#                                                       test_size=test_size,\n",
    "#                                                       random_state=1414,\n",
    "#                                                       shuffle=False)\n",
    "#     model.fit(X_train, y_train)\n",
    "#     pred = model.predict(X_val)                   # [0 1] : 0 1 0 1 1 1\n",
    "#     proba = model.predict_proba(X_val)            # [.7 >.3] [.4 <.6]  th:0.5-->[0 1] : 컴퓨터가 낸 답안\n",
    "#     print(proba[:5])\n",
    "#     proba_positive = proba[:, 1]  # 양성 중에 비정상인?\n",
    "#     th_list = [0.35, 0.38, 0.42, 0.45, 0.5]\n",
    "#     for th in th_list:\n",
    "#          biz = Binarizer(threshold=th)            # [[.7 .3] [.4 .6]]  th:0.2\n",
    "#          res = biz.fit_transform(proba_positive.reshape(-1,1)) # [ th<.3] [ th<.6]]  ->[1,1](컴퓨터가 예측)컴퓨터가 낸 답안=res\n",
    "#          print(th)\n",
    "#          my_eval(y_val, res, proba, th, avg='macro')\n",
    "\n",
    "#          # plot_roc_curve(model, X_val, y_val)\n",
    "#          # plt.show()\n",
    "\n",
    "\n",
    "#     # print(proba[:5], pred[:5])\n",
    "#     # my_eval(y_val, res, avg='macro')  # ----------점수def호출\n",
    "\n",
    "# #-----------------------------------------------------------\n",
    "# rf_model = RandomForestClassifier(n_estimators=500, random_state=1414)\n",
    "# y = pima[\"Outcome\"]\n",
    "# X = pima.drop(\"Outcome\", axis=1)   # 문제지: outcome 뺸 나머지\n",
    "\n",
    "# split_fit_score(X, y, rf_model)"
   ]
  },
  {
   "cell_type": "markdown",
   "id": "67738c96-d9ab-42d0-bec9-6b6a07196e32",
   "metadata": {},
   "source": [
    "## 3. 학습 모델 선정 : 우선 점수부터 보자\n",
    "* 숫자로만 이루어져있다\n",
    "* 결측 X"
   ]
  },
  {
   "cell_type": "markdown",
   "id": "82831ef0-b301-44ca-a834-02bea0bb3bb9",
   "metadata": {},
   "source": [
    "### Confusion_matrix\n",
    "<pre>\n",
    "        예측\n",
    "  실  TN | FP\n",
    "  제  -------  \n",
    "  값  FN | TP\n",
    " </pre>\n",
    "\n",
    "| | |  |\n",
    "|-|-|:-|\n",
    "|정확도| $accuracy = \\frac{TN+TP}{TP+FP+TN+FP}$|전체 샘플 중 맞게 예측한 비율|\n",
    "|정밀도| $precision = \\frac{TP}{TP+FP}$|True로 예측한 것 중 실제 True인 비율|\n",
    "|재현률| $precision = \\frac{TP}{FN+FP}$|실제 True 중 예측이 True인 비율|\n",
    "|F1| $f1 = 2*\\frac{precision * recall}{precision + recall}$| 정밀도 재현율 조화 평균 |\n"
   ]
  },
  {
   "cell_type": "code",
   "execution_count": null,
   "id": "831054da-f1a5-4a87-917f-f93b4e46d20e",
   "metadata": {},
   "outputs": [],
   "source": [
    "def my_eval(y_val, pred, avg=None):  # avg='binary'\n",
    "    accuracy = accuracy_score(y_val, pred)\n",
    "    f1 = f1_score(y_val, pred, average=avg)\n",
    "    precision = precision_score(y_val, pred, average=avg)\n",
    "    recall = recall_score(y_val, pred, average=avg)\n",
    "    con_matrix = confusion_matrix(y_val, pred)\n",
    "    # cls_report = classification_report(y_val, pred)\n",
    "    print(f'정확도{accuracy:.4f} 정밀도:{precision:.4f} 재현률:{recall:.4f} f1:{f1:.4f}')\n",
    "    print(\"오차행렬:\\n\", con_matrix)\n",
    "    # print('정확도: {:.4f} 정밀도: {:.4f} 재현률: {:.4f} f1: {:.4f}'.format(accuracy,precision,recall,f1))\n",
    "    \n",
    "    \n",
    "    # plot_precision_recall_curve(rf_model, X_val, y_val)\n",
    "    precisions, recalls, ths = precision_recall_curve(y_val, proba[:, 1])\n",
    "    plt.title(\"precision recall curv %0.2f  %0.4f\"%(th, f1))\n",
    "    plt.xlabel(\"threadhold\")\n",
    "    plt.ylabel(\"value\")\n",
    "    plt.grid()\n",
    "    plt.plot(ths, precisions[:ths.shape[0]], 'b', label=\"precision\")\n",
    "    plt.plot(ths, recalls[:ths.shape[0]], 'r', linestyle=\"--\", label=\"recall\")\n",
    "    plt.legend()\n",
    "    plt.show()\n",
    "\n",
    "    \n",
    "    auc_score = roc_auc_score(y_val, proba[:,1])\n",
    "    fprs, tprs, ths = roc_curve(y_val, proba[:,1])\n",
    "    plt.title(\"roc curv %0.4f\" % auc_score)\n",
    "    plt.xlabel(\"FPR(1-specificity)\")\n",
    "    plt.ylabel(\"TPR\")\n",
    "    plt.grid()\n",
    "    plt.plot(fprs, tprs, 'b')\n",
    "    plt.plot([0,1],[0,1],'--',color=\"black\")\n",
    "    plt.show()"
   ]
  },
  {
   "cell_type": "code",
   "execution_count": null,
   "id": "e859a4d2-077d-410f-a2a4-529150c86bdc",
   "metadata": {},
   "outputs": [],
   "source": [
    "def my_eval(y_val, pred, avg=None):  # avg='binary'\n",
    "    accuracy = accuracy_score(y_val, pred)\n",
    "    f1 = f1_score(y_val, pred, average=avg)\n",
    "    precision = precision_score(y_val, pred, average=avg)\n",
    "    recall = recall_score(y_val, pred, average=avg)\n",
    "    con_matrix = confusion_matrix(y_val, pred)\n",
    "    # cls_report = classification_report(y_val, pred)\n",
    "    print(f'정확도{accuracy:.4f} 정밀도:{precision:.4f} 재현률:{recall:.4f} f1:{f1:.4f}')\n",
    "    print(\"오차행렬:\\n\", con_matrix)\n",
    "    # print('정확도: {:.4f} 정밀도: {:.4f} 재현률: {:.4f} f1: {:.4f}'.format(accuracy,precision,recall,f1))\n",
    "    \n",
    "    \n",
    "    # plot_precision_recall_curve(rf_model, X_val, y_val)\n",
    "    precisions, recalls, ths = precision_recall_curve(y_val, proba[:, 1])\n",
    "    plt.title(\"precision recall curv %0.2f  %0.4f\"%(th, f1))\n",
    "    plt.xlabel(\"threadhold\")\n",
    "    plt.ylabel(\"value\")\n",
    "    plt.grid()\n",
    "    plt.plot(ths, precisions[:ths.shape[0]], 'b', label=\"precision\")\n",
    "    plt.plot(ths, recalls[:ths.shape[0]], 'r', linestyle=\"--\", label=\"recall\")\n",
    "    plt.legend()\n",
    "    plt.show()\n",
    "\n",
    "    \n",
    "    auc_score = roc_auc_score(y_val, proba[:,1])\n",
    "    fprs, tprs, ths = roc_curve(y_val, proba[:,1])\n",
    "    plt.title(\"roc curv %0.4f\" % auc_score)\n",
    "    plt.xlabel(\"FPR(1-specificity)\")\n",
    "    plt.ylabel(\"TPR\")\n",
    "    plt.grid()\n",
    "    plt.plot(fprs, tprs, 'b')\n",
    "    plt.plot([0,1],[0,1],'--',color=\"black\")\n",
    "    plt.show()"
   ]
  },
  {
   "cell_type": "code",
   "execution_count": null,
   "id": "3f23d490-c551-4a57-9414-810c2ccfaec3",
   "metadata": {},
   "outputs": [],
   "source": [
    "def my_eval(y_val, pred, avg=None):  # avg='binary'\n",
    "    accuracy = accuracy_score(y_val, pred)\n",
    "    f1 = f1_score(y_val, pred, average=avg)\n",
    "    precision = precision_score(y_val, pred, average=avg)\n",
    "    recall = recall_score(y_val, pred, average=avg)\n",
    "    con_matrix = confusion_matrix(y_val, pred)\n",
    "    # cls_report = classification_report(y_val, pred)\n",
    "    print(f'정확도{accuracy:.4f} 정밀도:{precision:.4f} 재현률:{recall:.4f} f1:{f1:.4f}')\n",
    "    print(\"오차행렬:\\n\", con_matrix)\n",
    "    # print('정확도: {:.4f} 정밀도: {:.4f} 재현률: {:.4f} f1: {:.4f}'.format(accuracy,precision,recall,f1))\n",
    "    \n",
    "    \n",
    "    # plot_precision_recall_curve(rf_model, X_val, y_val)\n",
    "    precisions, recalls, ths = precision_recall_curve(y_val, proba[:, 1])\n",
    "    plt.title(\"precision recall curv %0.2f  %0.4f\"%(th, f1))\n",
    "    plt.xlabel(\"threadhold\")\n",
    "    plt.ylabel(\"value\")\n",
    "    plt.grid()\n",
    "    plt.plot(ths, precisions[:ths.shape[0]], 'b', label=\"precision\")\n",
    "    plt.plot(ths, recalls[:ths.shape[0]], 'r', linestyle=\"--\", label=\"recall\")\n",
    "    plt.legend()\n",
    "    plt.show()\n",
    "\n",
    "    \n",
    "    auc_score = roc_auc_score(y_val, proba[:,1])\n",
    "    fprs, tprs, ths = roc_curve(y_val, proba[:,1])\n",
    "    plt.title(\"roc curv %0.4f\" % auc_score)\n",
    "    plt.xlabel(\"FPR(1-specificity)\")\n",
    "    plt.ylabel(\"TPR\")\n",
    "    plt.grid()\n",
    "    plt.plot(fprs, tprs, 'b')\n",
    "    plt.plot([0,1],[0,1],'--',color=\"black\")\n",
    "    plt.show()"
   ]
  },
  {
   "cell_type": "code",
   "execution_count": null,
   "id": "998440ae-f367-4911-9a6f-a6cccd332f04",
   "metadata": {},
   "outputs": [],
   "source": [
    "# rf_모델점수 0.7597402597402597\n",
    "# dt_모델점수 0.7142857142857143"
   ]
  },
  {
   "cell_type": "code",
   "execution_count": null,
   "id": "c7d5afe4-9205-48c0-ae14-94e70bd14597",
   "metadata": {},
   "outputs": [],
   "source": [
    "from sklearn.metrics import precision_recall_curve\n",
    "precision, recall, th = precision_recall_curve(y_val, proba[:,1])\n",
    "\n",
    "plt.plot()\n",
    "\n",
    "pp.title(\"Precision-Recall curv\")\n"
   ]
  },
  {
   "cell_type": "code",
   "execution_count": null,
   "id": "ad259fd9-32cb-4612-915c-a19fd180af72",
   "metadata": {},
   "outputs": [],
   "source": [
    "## f1_score() 변경을 위한 임계치 조정"
   ]
  },
  {
   "cell_type": "code",
   "execution_count": null,
   "id": "daa22768-8da3-4e89-ad2e-cb15cc0c8a62",
   "metadata": {},
   "outputs": [],
   "source": [
    "from sklearn.preprocessing import Binarizer\n",
    "X = [[-1,1,0], [1,2,3], [2,3,4]]\n",
    "binz = Binarizer(threshold=1)  # 0과 1의 비율을 조정할 수 있음(th=~보다 크다)\n",
    "print(binz.fit_transform(X))"
   ]
  },
  {
   "cell_type": "code",
   "execution_count": null,
   "id": "b54f6c88-e2eb-4d29-8a5e-96a9355fae3d",
   "metadata": {},
   "outputs": [],
   "source": [
    "## recall(재현율) 점수 올리기\n",
    "# th2 --> th:1[임계치를 낮추면]\n",
    "# [0 1 1] --> [1 1 1] 즉, 양성 데이터가 늘었다 -->24수치를 줄인다.\n"
   ]
  },
  {
   "cell_type": "markdown",
   "id": "4adadccb-18af-4263-9205-d0d33d004b99",
   "metadata": {},
   "source": [
    "## 4. 결측 확인(Missing Value)"
   ]
  },
  {
   "cell_type": "code",
   "execution_count": null,
   "id": "83ff8ff0-efa1-4ae5-8ab8-fbb739d1696b",
   "metadata": {},
   "outputs": [],
   "source": [
    "## 4. 결측 확인(Missing Value)"
   ]
  },
  {
   "cell_type": "code",
   "execution_count": null,
   "id": "64f87119-a3ca-425b-b0b0-aeb5832dc5f9",
   "metadata": {},
   "outputs": [],
   "source": [
    "# 0인 값 = 결측치\n",
    "pima[pima == 0].count()"
   ]
  },
  {
   "cell_type": "code",
   "execution_count": null,
   "id": "c7f6c011-9c9c-4aa8-bce4-04551b26ce4b",
   "metadata": {},
   "outputs": [],
   "source": [
    "## 5. EDA & Engineering\n",
    "* 이상치 데이터 : 0\n",
    "* 왜도(skew) : 정규분포화, 표준화"
   ]
  },
  {
   "cell_type": "code",
   "execution_count": null,
   "id": "a5b19a37-8586-4b07-8426-ff91c6e8730f",
   "metadata": {},
   "outputs": [],
   "source": [
    "pima.columns"
   ]
  },
  {
   "cell_type": "code",
   "execution_count": null,
   "id": "e41e5749-9fba-4861-9c7f-b690dd242a1c",
   "metadata": {},
   "outputs": [],
   "source": [
    "zero_cols = ['Glucose', 'BloodPressure', 'SkinThickness', 'Insulin', 'BMI']"
   ]
  },
  {
   "cell_type": "code",
   "execution_count": null,
   "id": "d9a9ee80-fa5f-424e-915d-25959a989188",
   "metadata": {},
   "outputs": [],
   "source": [
    "pima[pima[\"Glucose\"]==0][\"Glucose\"].count()"
   ]
  },
  {
   "cell_type": "code",
   "execution_count": null,
   "id": "6ab8f01c-0da6-4b27-9ad4-8069334baa6a",
   "metadata": {},
   "outputs": [],
   "source": [
    "for col in zero_cols:\n",
    "    zero = pima[pima[col]==0][col].count()\n",
    "    zero_n = pima[pima[col]!=0][col].count()\n",
    "    print(col, zero, zero_n)"
   ]
  },
  {
   "cell_type": "code",
   "execution_count": null,
   "id": "cb9837b9-f199-491e-80cf-762c3a1c4040",
   "metadata": {},
   "outputs": [],
   "source": [
    "# 비율\n",
    "for col in zero_cols:\n",
    "    z_rate = round(pima[pima[col]==0][col].count()/pima.shape[0]*100, 3)\n",
    "    z_n_rate = round(pima[pima[col]!=0][col].count()/pima.shape[0]*100, 3)\n",
    "    print(col, z_rate, z_n_rate)"
   ]
  },
  {
   "cell_type": "markdown",
   "id": "9ef4583f-8e3e-47d2-9c2f-bb536e9db940",
   "metadata": {},
   "source": [
    "####  zero_cols : (정상/비정상(0/1)   &  나이구간별) 평균 --> 0 채우기"
   ]
  },
  {
   "cell_type": "code",
   "execution_count": null,
   "id": "003edd8f-4378-48b4-9136-9a30477697df",
   "metadata": {},
   "outputs": [],
   "source": [
    "pima['BloodPressure'].mean()"
   ]
  },
  {
   "cell_type": "code",
   "execution_count": null,
   "id": "60265daf-c567-457b-8d9b-a03a1c3a2833",
   "metadata": {},
   "outputs": [],
   "source": [
    "pima['Age'].describe()"
   ]
  },
  {
   "cell_type": "code",
   "execution_count": null,
   "id": "27a45da2-3306-4aaf-b691-9b66c8ae6e39",
   "metadata": {},
   "outputs": [],
   "source": [
    "# df[조건][컬럼]\n",
    "\n",
    "# min : 21 ~ max : 81 --> 20 30 40 50 60 70 80\n",
    "#pima['Age_band'] = pima['Age'] // 20\n",
    "\n",
    "pima['Age_band'] = pd.cut(pima['Age'], bins=[0,20,24,29,41,81,150], labels=[0,1,2,3,4,5])\n",
    "\n",
    "pima[['Age','Age_band']].head()\n",
    "pima['Age_band'].unique()"
   ]
  },
  {
   "cell_type": "code",
   "execution_count": null,
   "id": "6fafdf3f-0045-4ea5-8e0b-f8838bae8034",
   "metadata": {},
   "outputs": [],
   "source": [
    "# Outcome별(정상,비정상), 나이별 평균 혈압  \n",
    "# sql문 => select Age_band, avg(BloodPressure) from emp group by Age_band;\n",
    "# df[조건].groupby()[컬럼]\n",
    "\n",
    "pima[pima['BloodPressure']>0].groupby(['Outcome', 'Age_band'])['BloodPressure'].mean()"
   ]
  },
  {
   "cell_type": "code",
   "execution_count": null,
   "id": "9f55293a-da72-4edc-9c00-830a1b53359d",
   "metadata": {},
   "outputs": [],
   "source": [
    "# # Outcome별(정상,비정상), 나이별 평균 zero_cols('Glucose', 'BloodPressure', 'SkinThickness', 'Insulin', 'BMI')\n",
    "\n",
    "for col in zero_cols:\n",
    "    print(col, pima[pima[col]>0].groupby(['Outcome', 'Age_band'])[col].mean())\n",
    "    print('---'*15)"
   ]
  },
  {
   "cell_type": "code",
   "execution_count": null,
   "id": "b018f7be-546e-44c5-a6c8-edc44ff3a5f9",
   "metadata": {},
   "outputs": [],
   "source": [
    "## 6. 이상값(0) 채우기\n",
    "=> 구간화, df.fillna(호칭별 그룹 평균값, inplace=True)\n",
    "<pre>\n",
    "BMI             : Outcome\n",
    "SkinThickness   : Outcome  \n",
    "-------------------------------------\n",
    "Insulin         : Outcome  Age_band\n",
    "BloodPressure   : Outcome  Age_band\n",
    "Glucose         : Outcome  Age_band\n",
    "</pre>"
   ]
  },
  {
   "cell_type": "code",
   "execution_count": null,
   "id": "9e9abff6-51d0-417b-9059-73bdb01d7e5b",
   "metadata": {},
   "outputs": [],
   "source": [
    "# 0값을 Nan으로 바꾸기 -> fillna사용을 위해\n",
    "pima[zero_cols] = pima[zero_cols].replace(0,np.nan)\n",
    "\n",
    "# df.fillna(  df[zero_cols].transpose( _____ )   )\n",
    "# df.isna().sum()"
   ]
  },
  {
   "cell_type": "code",
   "execution_count": null,
   "id": "65fb1561-a0aa-4f24-af7f-fd575497e0fc",
   "metadata": {},
   "outputs": [],
   "source": [
    "# BMI, SkinThickness\n",
    "pima[\"BMI\"]           = pima[\"BMI\"].fillna(pima.groupby(by=\"Outcome\")[\"BMI\"].transform('mean'))\n",
    "pima[\"SkinThickness\"] = pima[\"SkinThickness\"].fillna(pima.groupby(by=\"Outcome\")[\"SkinThickness\"].transform('mean'))\n",
    "\n",
    "# Insulin, BloodPressure, Glucose\n",
    "pima[\"Insulin\"]       = pima[\"Insulin\"].fillna(pima.groupby(by=[\"Outcome\",\"Age_band\"])[\"Insulin\"].transform('mean'))\n",
    "pima[\"BloodPressure\"] = pima[\"BloodPressure\"].fillna(pima.groupby(by=[\"Outcome\",\"Age_band\"])[\"BloodPressure\"].transform('mean'))\n",
    "pima[\"Glucose\"]       = pima[\"Glucose\"].fillna(pima.groupby(by=[\"Outcome\",\"Age_band\"])[\"Glucose\"].transform('mean'))"
   ]
  },
  {
   "cell_type": "code",
   "execution_count": null,
   "id": "870e7320-ceca-4c79-8e0f-034c081c57e0",
   "metadata": {},
   "outputs": [],
   "source": [
    "pima.isna().sum()"
   ]
  },
  {
   "cell_type": "code",
   "execution_count": null,
   "id": "7b5f27cb-830d-4984-9f27-db5e982d1322",
   "metadata": {},
   "outputs": [],
   "source": [
    "pima.hist()\n",
    "plt.show()"
   ]
  },
  {
   "cell_type": "markdown",
   "id": "a5ed91f5-88e1-4be7-819c-ca251c65f151",
   "metadata": {},
   "source": [
    "## 7. 2차 점수 확인 : scaling"
   ]
  },
  {
   "cell_type": "code",
   "execution_count": null,
   "id": "753c70b2-e18a-4e2f-9885-7be765ed0f48",
   "metadata": {},
   "outputs": [],
   "source": [
    "# pima --> 0처리 다 한 데이터\n",
    "y = pima[\"Outcome\"]\n",
    "X = pima.drop(\"Outcome\", axis=1)\n",
    "print(\"2차\")\n",
    "split_fit_score(X, y, rf_model)  #0.8441558441558441"
   ]
  }
 ],
 "metadata": {
  "kernelspec": {
   "display_name": "Python 3 (ipykernel)",
   "language": "python",
   "name": "python3"
  },
  "language_info": {
   "codemirror_mode": {
    "name": "ipython",
    "version": 3
   },
   "file_extension": ".py",
   "mimetype": "text/x-python",
   "name": "python",
   "nbconvert_exporter": "python",
   "pygments_lexer": "ipython3",
   "version": "3.8.8"
  }
 },
 "nbformat": 4,
 "nbformat_minor": 5
}
